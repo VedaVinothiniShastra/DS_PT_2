{
 "cells": [
  {
   "cell_type": "markdown",
   "id": "1b906436",
   "metadata": {},
   "source": [
    "High-Performance Pandas\t\n",
    "    Motivating query() and eval()\n",
    "\tCompound Expressions\n",
    "\tpandas.eval() for Efficient Operations\n",
    "\tDataFrame.eval() for Column-Wise Operations\n",
    "\tDataFrame.query() Method\n",
    "Visualization with Matplotlib\t\n",
    "    Importing matplotlib\n",
    "\tSetting Styles\n",
    "\tshow() or No show()?\n",
    "\tSaving Figures to File\n",
    "\tTwo Interfaces for the Price of One"
   ]
  },
  {
   "cell_type": "code",
   "execution_count": 2,
   "id": "635f8b9c",
   "metadata": {},
   "outputs": [
    {
     "name": "stdout",
     "output_type": "stream",
     "text": [
      "[0.96969574 1.31543145 0.73736956 ... 1.1011828  0.76733033 1.62106496]\n",
      "6.96 ms ± 612 µs per loop (mean ± std. dev. of 7 runs, 100 loops each)\n"
     ]
    }
   ],
   "source": [
    "import numpy as np\n",
    "rng=np.random.RandomState(42)\n",
    "x=rng.rand(1000000)\n",
    "y=rng.rand(1000000)\n",
    "print(x+y)\n",
    "%timeit x+y\n"
   ]
  },
  {
   "cell_type": "code",
   "execution_count": 6,
   "id": "a79a126a",
   "metadata": {},
   "outputs": [
    {
     "name": "stdout",
     "output_type": "stream",
     "text": [
      "247 ms ± 34.3 ms per loop (mean ± std. dev. of 7 runs, 1 loop each)\n",
      "209 ms ± 20.3 ms per loop (mean ± std. dev. of 7 runs, 1 loop each)\n"
     ]
    }
   ],
   "source": [
    "#eval()\n",
    "\n",
    "import pandas as pd\n",
    "row=100000\n",
    "col=100\n",
    "rang=np.random.RandomState(42)\n",
    "df1, df2, df3, df4=(pd.DataFrame(rang.rand(row, col)) for i in range(4))\n",
    "%timeit df1+df2+df3+df4\n",
    "\n",
    "%timeit pd.eval(df1+df2+df3+df4)"
   ]
  },
  {
   "cell_type": "code",
   "execution_count": 13,
   "id": "6e72093d",
   "metadata": {},
   "outputs": [
    {
     "name": "stdout",
     "output_type": "stream",
     "text": [
      "            A         B         C\n",
      "0    0.374540  0.950714  0.731994\n",
      "1    0.598658  0.156019  0.155995\n",
      "2    0.058084  0.866176  0.601115\n",
      "3    0.708073  0.020584  0.969910\n",
      "4    0.832443  0.212339  0.181825\n",
      "..        ...       ...       ...\n",
      "995  0.967035  0.051669  0.504796\n",
      "996  0.718454  0.862640  0.179256\n",
      "997  0.800003  0.552707  0.396554\n",
      "998  0.131715  0.865296  0.157273\n",
      "999  0.309788  0.290046  0.871414\n",
      "\n",
      "[1000 rows x 3 columns]\n"
     ]
    }
   ],
   "source": [
    "#DataFrame.eval() for Column-Wise Operations\n",
    "\n",
    "rang=np.random.RandomState(42)\n",
    "a=pd.DataFrame(rang.rand(1000,3),columns=['A','B','C'])\n",
    "print(a)"
   ]
  },
  {
   "cell_type": "code",
   "execution_count": 14,
   "id": "58ac0b88",
   "metadata": {},
   "outputs": [
    {
     "name": "stdout",
     "output_type": "stream",
     "text": [
      "315 µs ± 103 µs per loop (mean ± std. dev. of 7 runs, 1,000 loops each)\n"
     ]
    }
   ],
   "source": [
    "%timeit pd.DataFrame(rang.rand(1000,3),columns=['A','B','C'])"
   ]
  },
  {
   "cell_type": "code",
   "execution_count": 15,
   "id": "b3a554af",
   "metadata": {},
   "outputs": [
    {
     "name": "stdout",
     "output_type": "stream",
     "text": [
      "2.37 ms ± 644 µs per loop (mean ± std. dev. of 7 runs, 100 loops each)\n",
      "            A         B         C         D\n",
      "0    0.374540  0.950714  0.731994  2.057248\n",
      "1    0.598658  0.156019  0.155995  0.910672\n",
      "2    0.058084  0.866176  0.601115  1.525375\n",
      "3    0.708073  0.020584  0.969910  1.698567\n",
      "4    0.832443  0.212339  0.181825  1.226607\n",
      "..        ...       ...       ...       ...\n",
      "995  0.967035  0.051669  0.504796  1.523500\n",
      "996  0.718454  0.862640  0.179256  1.760350\n",
      "997  0.800003  0.552707  0.396554  1.749264\n",
      "998  0.131715  0.865296  0.157273  1.154284\n",
      "999  0.309788  0.290046  0.871414  1.471247\n",
      "\n",
      "[1000 rows x 4 columns]\n"
     ]
    }
   ],
   "source": [
    "%timeit a.eval('D=(A+B+C)', inplace=True)\n",
    "print(a)"
   ]
  },
  {
   "cell_type": "code",
   "execution_count": 17,
   "id": "872cba58",
   "metadata": {},
   "outputs": [
    {
     "name": "stdout",
     "output_type": "stream",
     "text": [
      "            A         B         C\n",
      "0    0.374540  0.950714  0.731994\n",
      "1    0.598658  0.156019  0.155995\n",
      "2    0.058084  0.866176  0.601115\n",
      "3    0.708073  0.020584  0.969910\n",
      "4    0.832443  0.212339  0.181825\n",
      "..        ...       ...       ...\n",
      "995  0.967035  0.051669  0.504796\n",
      "996  0.718454  0.862640  0.179256\n",
      "997  0.800003  0.552707  0.396554\n",
      "998  0.131715  0.865296  0.157273\n",
      "999  0.309788  0.290046  0.871414\n",
      "\n",
      "[1000 rows x 3 columns]\n",
      "            A         B         C\n",
      "7    0.139494  0.292145  0.366362\n",
      "13   0.440152  0.122038  0.495177\n",
      "19   0.195983  0.045227  0.325330\n",
      "36   0.228798  0.076980  0.289751\n",
      "41   0.110052  0.227935  0.427108\n",
      "..        ...       ...       ...\n",
      "939  0.012103  0.009038  0.357029\n",
      "944  0.118503  0.288885  0.397837\n",
      "952  0.220853  0.038930  0.036019\n",
      "966  0.425228  0.037571  0.127867\n",
      "969  0.226125  0.304199  0.303943\n",
      "\n",
      "[117 rows x 3 columns]\n"
     ]
    }
   ],
   "source": [
    "#DataFrame.query() Method\n",
    "\n",
    "rang=np.random.RandomState(42)\n",
    "a=pd.DataFrame(rang.rand(1000,3),columns=['A','B','C'])\n",
    "print(a)\n",
    "q=a.query('A<0.5 and B<0.5 and C<0.5')\n",
    "print(q)"
   ]
  },
  {
   "cell_type": "code",
   "execution_count": null,
   "id": "46fbd336",
   "metadata": {},
   "outputs": [],
   "source": []
  }
 ],
 "metadata": {
  "kernelspec": {
   "display_name": "Python 3 (ipykernel)",
   "language": "python",
   "name": "python3"
  },
  "language_info": {
   "codemirror_mode": {
    "name": "ipython",
    "version": 3
   },
   "file_extension": ".py",
   "mimetype": "text/x-python",
   "name": "python",
   "nbconvert_exporter": "python",
   "pygments_lexer": "ipython3",
   "version": "3.11.0"
  }
 },
 "nbformat": 4,
 "nbformat_minor": 5
}
