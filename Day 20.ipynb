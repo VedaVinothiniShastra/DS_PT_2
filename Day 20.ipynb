{
 "cells": [
  {
   "cell_type": "markdown",
   "id": "631e65d3",
   "metadata": {},
   "source": [
    "Cluster Formation\t\n",
    "    Clustering with the k-means algorithm\n",
    "       --> from sklearn.cluster import KMeans\n",
    "\tEstimating clusters with Kernel Density Estimation\n",
    "\tClustering with hierarchical and neighborhood algorithms\n",
    "        1.Agglomerative - bottom up\n",
    "        2.Divisive -top down\n",
    "\tCategorizing data with decision tree and random forest algorithms\n",
    "        -Decision tree , random forest \n",
    "Cluster Formation with Other Algorithms\t\n",
    "    Clustering Using Meanshift\n",
    "        -->from sklearn.cluster import MeanShift\n",
    "\tClustering Using DBSCAN\n",
    "        -->from sklearn.cluster import DBSCAN\n",
    "\tClustering Using Hierarchical Merging\n",
    "        -->from sklearn.cluster import AgglomerativeClustering"
   ]
  }
 ],
 "metadata": {
  "kernelspec": {
   "display_name": "Python 3 (ipykernel)",
   "language": "python",
   "name": "python3"
  },
  "language_info": {
   "codemirror_mode": {
    "name": "ipython",
    "version": 3
   },
   "file_extension": ".py",
   "mimetype": "text/x-python",
   "name": "python",
   "nbconvert_exporter": "python",
   "pygments_lexer": "ipython3",
   "version": "3.11.0"
  }
 },
 "nbformat": 4,
 "nbformat_minor": 5
}
