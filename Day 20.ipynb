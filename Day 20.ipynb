{
 "cells": [
  {
   "cell_type": "markdown",
   "id": "631e65d3",
   "metadata": {},
   "source": [
    "Cluster Formation\t\n",
    "\n",
    "Refer :  https://scikit-learn.org/stable/modules/clustering.html\n",
    "    1.Clustering with the k-means algorithm\n",
    "       --> from sklearn.cluster import KMeans\n",
    "\t2.Estimating clusters with Kernel Density Estimation\n",
    "\t3.Clustering with hierarchical and neighborhood algorithms\n",
    "        1.Agglomerative - bottom up\n",
    "        2.Divisive -top down\n",
    "\t4.Categorizing data with decision tree and random forest algorithms\n",
    "        -Decision tree , random forest \n",
    "Cluster Formation with Other Algorithms\t\n",
    "    1.Clustering Using Meanshift\n",
    "        -->from sklearn.cluster import MeanShift\n",
    "\t2.Clustering Using DBSCAN\n",
    "        -->from sklearn.cluster import DBSCAN\n",
    "\t3.Clustering Using Hierarchical Merging\n",
    "        -->from sklearn.cluster import AgglomerativeClustering"
   ]
  },
  {
   "cell_type": "code",
   "execution_count": 3,
   "id": "03415304",
   "metadata": {},
   "outputs": [
    {
     "name": "stderr",
     "output_type": "stream",
     "text": [
      "C:\\Users\\bjawa\\AppData\\Local\\Programs\\Python\\Python311\\Lib\\site-packages\\sklearn\\cluster\\_kmeans.py:870: FutureWarning: The default value of `n_init` will change from 10 to 'auto' in 1.4. Set the value of `n_init` explicitly to suppress the warning\n",
      "  warnings.warn(\n"
     ]
    },
    {
     "data": {
      "text/plain": [
       "<matplotlib.collections.PathCollection at 0x1bce74bde10>"
      ]
     },
     "execution_count": 3,
     "metadata": {},
     "output_type": "execute_result"
    },
    {
     "data": {
      "image/png": "[encoded data removed]",
      "text/plain": [
       "<Figure size 800x600 with 1 Axes>"
      ]
     },
     "metadata": {},
     "output_type": "display_data"
    }
   ],
   "source": [
    "# Kmeans\n",
    "\n",
    "from sklearn.datasets import make_blobs\n",
    "from sklearn.cluster import KMeans\n",
    "import matplotlib.pyplot as plt\n",
    "#creating a dataset\n",
    "X,y =make_blobs(n_samples=100,centers=10,random_state=42,cluster_std=1.5)\n",
    "#calling the algo for creating a model\n",
    "model= KMeans(10,random_state=0)\n",
    "#fit  & predict\n",
    "Y= model.fit_predict(X)\n",
    "\n",
    "#visualization\n",
    "\n",
    "fig, ax=plt.subplots(figsize=(8,6))\n",
    "ax.scatter(X[:,0],X[:,1],s=50,color='blue')"
   ]
  },
  {
   "cell_type": "code",
   "execution_count": 5,
   "id": "59b3df18",
   "metadata": {},
   "outputs": [
    {
     "name": "stdout",
     "output_type": "stream",
     "text": [
      "[-0.55181668 -0.39142758 -0.63174577 -1.38426184 -0.44113388]\n"
     ]
    }
   ],
   "source": [
    "#Estimating clusters with Kernel Density Estimation\n",
    "\n",
    "from sklearn.neighbors import KernelDensity\n",
    "import numpy as np\n",
    "rng=np.random.RandomState(42)\n",
    "X=rng.random_sample((100,3))\n",
    "#Model creation using the alogirthm\n",
    "model=KernelDensity(algorithm='kd_tree', kernel='linear',bandwidth=0.5)\n",
    "#fit\n",
    "ff=model.fit(X)\n",
    "#score_samples --> low to high dimensional data\n",
    "ss=model.score_samples(X[:5])\n",
    "print(ss)"
   ]
  },
  {
   "cell_type": "markdown",
   "id": "958e47ad",
   "metadata": {},
   "source": [
    "Clustering with hierarchical and neighborhood algorithms\n",
    "        1.Agglomerative - bottom up\n",
    "        2.Divisive -top down\n",
    "        \n",
    "        \n",
    "        1.A Hierarchical clustering method works via grouping data into a tree of clusters. Hierarchical clustering begins by treating every data point as a separate cluster\n",
    "        \n",
    "        \n",
    "        How to perform the HC:\n",
    "        1.Identify the 2 clusters which can be closest together\n",
    "        2.Merge the 2 maximum comparable clusters. We need to continue these steps until all the clusters are merged together.\n",
    "        \n",
    "        Agglomerative: (bottom -up)\n",
    "        \n",
    "        -->in which the algorithm starts with taking all data points as single clusters and merging them until one cluster is left (jj street -> 11 --> 1)\n",
    "        \n",
    "        Divisive: (Top- down)\n",
    "        \n",
    "        ->Divisive algorithm is the reverse of the agglomerative algorithm as it is a top-down approach."
   ]
  },
  {
   "cell_type": "markdown",
   "id": "6f831736",
   "metadata": {},
   "source": [
    "Categorizing data with decision tree and random forest algorithms\n",
    "        -Decision tree , random forest \n",
    "\n",
    "    refer : day 17 \n",
    "    "
   ]
  },
  {
   "cell_type": "markdown",
   "id": "718505c3",
   "metadata": {},
   "source": [
    "Cluster Formation with Other Algorithms\t\n",
    "    1.Clustering Using Meanshift\n",
    "        -->from sklearn.cluster import MeanShift\n",
    "\t2.Clustering Using DBSCAN\n",
    "        -->from sklearn.cluster import DBSCAN\n",
    "\t3.Clustering Using Hierarchical Merging\n",
    "        -->from sklearn.cluster import AgglomerativeClustering\n",
    "        \n",
    "        "
   ]
  },
  {
   "cell_type": "code",
   "execution_count": 16,
   "id": "ca7634d1",
   "metadata": {},
   "outputs": [
    {
     "name": "stdout",
     "output_type": "stream",
     "text": [
      "(6, 2)\n",
      "[1 1 1 0 0 0]\n",
      "[1 1]\n"
     ]
    }
   ],
   "source": [
    "#meanshift\n",
    "from sklearn.cluster import MeanShift\n",
    "import numpy as np\n",
    "X = np.array([[1, 1], [2, 1], [1, 0],\n",
    "              [4, 7], [3, 5], [3, 6]])\n",
    "print(np.shape(X))\n",
    "\n",
    "#model by calling the algo\n",
    "\n",
    "model=MeanShift(bandwidth=2,max_iter=500)\n",
    "#fitting\n",
    "ff=model.fit(X)\n",
    "print(ff.labels_)\n",
    "#predicting\n",
    "pre=model.predict([[0,0],[2,2]])\n",
    "print(pre)"
   ]
  },
  {
   "cell_type": "code",
   "execution_count": 26,
   "id": "3e9faa20",
   "metadata": {},
   "outputs": [
    {
     "name": "stdout",
     "output_type": "stream",
     "text": [
      "(6, 2)\n",
      "[0 0 0 1 1 1]\n",
      "no of cluster 2\n",
      "no of nosie points 0\n"
     ]
    }
   ],
   "source": [
    "#DBSCAN\n",
    "\n",
    "from sklearn.cluster import DBSCAN\n",
    "import numpy as np\n",
    "X = np.array([[1, 1], [2, 1], [1, 0],\n",
    "              [4, 7], [3, 5], [3, 6]])\n",
    "print(np.shape(X))\n",
    "\n",
    "#model creat9ion\n",
    "model=DBSCAN(eps=3,min_samples=2)\n",
    "ff=model.fit(X)\n",
    "labels=ff.labels_\n",
    "pre=model.fit_predict(X)\n",
    "print(pre)\n",
    "\n",
    "#removw noise\n",
    "n_clusters_ = len(set(labels)) - (1 if -1 in labels else 0)\n",
    "n_noise_ = list(labels).count(-1)\n",
    "\n",
    "print('no of cluster',n_clusters_)\n",
    "print('no of nosie points',n_noise_)"
   ]
  },
  {
   "cell_type": "code",
   "execution_count": 36,
   "id": "6d413c5c",
   "metadata": {},
   "outputs": [
    {
     "name": "stdout",
     "output_type": "stream",
     "text": [
      "[0 1 2 0 0 2 1 1 2 0 1 0 0 1 0 1 1 1 1 1 0 0 0 0 1 0 1 2 1 2 2 1 0 2 1 2 2\n",
      " 2 2 0 0 0 1 0 2 1 1 1 1 0 0 0 1 2 2 2 2 0 2 0 1 2 2 1 1 1 2 1 2 0 2 1 0 0\n",
      " 1 1 2 2 0 1 2 0 1 2 2 0 0 1 1 0 2 0 2 0 2 0 2 1 0 1 0 0 1 0 0 2 2 1 2 2 2\n",
      " 2 2 1 0 2 0 1 2 1 2 2 2 2 2 2 0 1 1 1 0 1 1 2 0 2 0 1 2 0 1 1 2 0 1 0 2 1\n",
      " 2 2 2 0 0 0 2 0 2 0 0 0 0 1 2 0 1 1 1 2 0 0 0 1 1 0 0 0 0 1 1 1 1 0 0 2 1\n",
      " 0 2 1 0 2 2 2 0 1 2 1 0 1 0 1 0 0 1 2 2 2 2 0 1 1 0 2 2 2 0 1 0 0 1 0 2 2\n",
      " 0 2 1 1 1 0 0 2 1 1 1 2 1 0 2 2 0 2 2 1 0 1 1 0 0 1 0 1 1 1 2 0 1 1 0 2 2\n",
      " 2 2 0 0 0 0 0 1 1 2 0 0 2 2 2 1 2 1 2 2 1 1 1 2 1 0 1 2 0 1 2 2 1 2 2 2 1\n",
      " 0 2 1 1]\n",
      "3\n",
      "[1 0]\n",
      "                                 OLS Regression Results                                \n",
      "=======================================================================================\n",
      "Dep. Variable:                      y   R-squared (uncentered):                   0.664\n",
      "Model:                            OLS   Adj. R-squared (uncentered):              0.661\n",
      "Method:                 Least Squares   F-statistic:                              294.1\n",
      "Date:                Fri, 31 Mar 2023   Prob (F-statistic):                    3.03e-71\n",
      "Time:                        21:44:49   Log-Likelihood:                         -338.84\n",
      "No. Observations:                 300   AIC:                                      681.7\n",
      "Df Residuals:                     298   BIC:                                      689.1\n",
      "Df Model:                           2                                                  \n",
      "Covariance Type:            nonrobust                                                  \n",
      "==============================================================================\n",
      "                 coef    std err          t      P>|t|      [0.025      0.975]\n",
      "------------------------------------------------------------------------------\n",
      "x1             0.5067      0.040     12.523      0.000       0.427       0.586\n",
      "x2            -0.9194      0.039    -23.602      0.000      -0.996      -0.843\n",
      "==============================================================================\n",
      "Omnibus:                        1.784   Durbin-Watson:                   1.044\n",
      "Prob(Omnibus):                  0.410   Jarque-Bera (JB):                1.492\n",
      "Skew:                          -0.143   Prob(JB):                        0.474\n",
      "Kurtosis:                       3.195   Cond. No.                         1.37\n",
      "==============================================================================\n",
      "\n",
      "Notes:\n",
      "[1] R² is computed without centering (uncentered) since the model does not contain a constant.\n",
      "[2] Standard Errors assume that the covariance matrix of the errors is correctly specified.\n",
      "Homogeneity: 0.872\n",
      "Completeness: 0.872\n",
      "Adjusted Mutual Information: 0.871\n",
      "Silhouette Coefficient: 0.753\n"
     ]
    }
   ],
   "source": [
    "#affiinity \n",
    "\n",
    "import numpy as np\n",
    "from sklearn.cluster import AffinityPropagation\n",
    "from sklearn import metrics\n",
    "from sklearn.datasets import make_blobs\n",
    "\n",
    "#dataset\n",
    "centers = [[1, 1], [-1, -1], [1, -1]]\n",
    "X, labels_true = make_blobs(\n",
    "    n_samples=300, centers=centers, cluster_std=0.5, random_state=0\n",
    ")\n",
    "#model creation\n",
    "af = AffinityPropagation(preference=-50, random_state=0).fit(X)\n",
    "cc = af.cluster_centers_indices_\n",
    "labels = af.labels_\n",
    "print(labels)\n",
    "n_clusters_ = len(cc)\n",
    "print(n_clusters_)\n",
    "\n",
    "print(af.predict([[0, 0], [4, 4]]))\n",
    "\n",
    "import statsmodels.api as s\n",
    "#X=s.add_constant(X)\n",
    "m=s.OLS(labels_true,X).fit()\n",
    "print(m.summary())\n",
    "print(\"Homogeneity: %0.3f\" % metrics.homogeneity_score(labels_true, labels))\n",
    "print(\"Completeness: %0.3f\" % metrics.completeness_score(labels_true, labels))\n",
    "print(\n",
    "    \"Adjusted Mutual Information: %0.3f\"\n",
    "    % metrics.adjusted_mutual_info_score(labels_true, labels)\n",
    ")\n",
    "print(\n",
    "    \"Silhouette Coefficient: %0.3f\"\n",
    "    % metrics.silhouette_score(X, labels, metric=\"sqeuclidean\")\n",
    ")\n",
    "\n"
   ]
  },
  {
   "cell_type": "code",
   "execution_count": 39,
   "id": "b185dd90",
   "metadata": {},
   "outputs": [
    {
     "name": "stdout",
     "output_type": "stream",
     "text": [
      "AgglomerativeClustering()\n",
      "[1 1 1 0 0 0]\n",
      "[1 1 1 0 0 0]\n"
     ]
    }
   ],
   "source": [
    "from sklearn.cluster import AgglomerativeClustering\n",
    "import numpy as np\n",
    "X = np.array([[1, 2], [1, 4], [1, 0],\n",
    "              [4, 2], [4, 4], [4, 0]])\n",
    "clustering = AgglomerativeClustering().fit(X)\n",
    "\n",
    "print(clustering)\n",
    "print(clustering.labels_)\n",
    "print(clustering.fit_predict(X))\n"
   ]
  },
  {
   "cell_type": "code",
   "execution_count": 40,
   "id": "df1963fb",
   "metadata": {},
   "outputs": [
    {
     "data": {
      "text/plain": [
       "array([0, 0, 0, 1, 1, 1])"
      ]
     },
     "execution_count": 40,
     "metadata": {},
     "output_type": "execute_result"
    }
   ],
   "source": [
    "from sklearn.cluster import OPTICS\n",
    "import numpy as np\n",
    "X = np.array([[1, 2], [2, 5], [3, 6],\n",
    "              [8, 7], [8, 8], [7, 3]])\n",
    "clustering = OPTICS(min_samples=2).fit(X)\n",
    "clustering.labels_"
   ]
  },
  {
   "cell_type": "code",
   "execution_count": 42,
   "id": "f34f72a1",
   "metadata": {
    "scrolled": true
   },
   "outputs": [
    {
     "name": "stdout",
     "output_type": "stream",
     "text": [
      "[[10.  2.]\n",
      " [ 1.  2.]]\n",
      "[1 0]\n"
     ]
    }
   ],
   "source": [
    "import numpy as np\n",
    "from sklearn.mixture import GaussianMixture\n",
    "X = np.array([[1, 2], [1, 4], [1, 0], [10, 2], [10, 4], [10, 0]])\n",
    "gm = GaussianMixture(n_components=2, random_state=0).fit(X)\n",
    "print(gm.means_)\n",
    "print(gm.predict([[0, 0], [12, 3]]))"
   ]
  },
  {
   "cell_type": "code",
   "execution_count": 44,
   "id": "7bebdbce",
   "metadata": {},
   "outputs": [
    {
     "name": "stdout",
     "output_type": "stream",
     "text": [
      "Birch(n_clusters=4)\n",
      "[0 0 0 1 1 1]\n"
     ]
    },
    {
     "name": "stderr",
     "output_type": "stream",
     "text": [
      "C:\\Users\\bjawa\\AppData\\Local\\Programs\\Python\\Python311\\Lib\\site-packages\\sklearn\\cluster\\_birch.py:726: ConvergenceWarning: Number of subclusters found (2) by BIRCH is less than (4). Decrease the threshold.\n",
      "  warnings.warn(\n"
     ]
    }
   ],
   "source": [
    "from sklearn.cluster import Birch\n",
    "X = [[0, 1], [0.3, 1], [-0.3, 1], [0, -1], [0.3, -1], [-0.3, -1]]\n",
    "brc = Birch(n_clusters=4)\n",
    "print(brc.fit(X))\n",
    "\n",
    "print(brc.predict(X))\n"
   ]
  },
  {
   "cell_type": "code",
   "execution_count": 45,
   "id": "5d30a037",
   "metadata": {},
   "outputs": [
    {
     "name": "stdout",
     "output_type": "stream",
     "text": [
      "[2 2 2 0 0 0 1 1 1]\n",
      "[2 0]\n",
      "[[10.  2.]\n",
      " [10.  8.]\n",
      " [ 1.  2.]]\n"
     ]
    }
   ],
   "source": [
    "from sklearn.cluster import BisectingKMeans\n",
    "import numpy as np\n",
    "X = np.array([[1, 2], [1, 4], [1, 0],\n",
    "              [10, 2], [10, 4], [10, 0],\n",
    "              [10, 6], [10, 8], [10, 10]])\n",
    "bisect_means = BisectingKMeans(n_clusters=3, random_state=0).fit(X)\n",
    "print(bisect_means.labels_)\n",
    "\n",
    "print(bisect_means.predict([[0, 0], [12, 3]]))\n",
    "\n",
    "print(bisect_means.cluster_centers_)"
   ]
  },
  {
   "cell_type": "code",
   "execution_count": null,
   "id": "c468a6e0",
   "metadata": {},
   "outputs": [],
   "source": []
  }
 ],
 "metadata": {
  "kernelspec": {
   "display_name": "Python 3 (ipykernel)",
   "language": "python",
   "name": "python3"
  },
  "language_info": {
   "codemirror_mode": {
    "name": "ipython",
    "version": 3
   },
   "file_extension": ".py",
   "mimetype": "text/x-python",
   "name": "python",
   "nbconvert_exporter": "python",
   "pygments_lexer": "ipython3",
   "version": "3.11.0"
  }
 },
 "nbformat": 4,
 "nbformat_minor": 5
}
