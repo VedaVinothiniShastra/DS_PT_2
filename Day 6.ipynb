{
 "cells": [
  {
   "cell_type": "markdown",
   "id": "e5793f8c",
   "metadata": {},
   "source": [
    "Data Manipulation with Pandas\t\n",
    "\n",
    "Pandas -> Panel data + Python Data Analysis\n",
    "        \n",
    "     Characteristics:   \n",
    "    1.Fast \n",
    "    2.Time series concept\n",
    "    3.It can process high dimesnional data much faster\n",
    "    4.It will provide analyzing , cleaning, exploring , Manipulation\n",
    "\n",
    "    Installing and Using Pandas\n",
    "    ->pip install pandas\n",
    "    \n",
    "\tIntroducing Pandas Objects\n",
    "\tPandas Series Object\n",
    "\tPandas DataFrames\n",
    "\tPandas Index Object\n"
   ]
  },
  {
   "cell_type": "code",
   "execution_count": 1,
   "id": "d97bda1e",
   "metadata": {},
   "outputs": [
    {
     "name": "stdout",
     "output_type": "stream",
     "text": [
      "Requirement already satisfied: pandas in c:\\users\\bjawa\\appdata\\local\\programs\\python\\python311\\lib\\site-packages (1.5.3)Note: you may need to restart the kernel to use updated packages.\n",
      "\n",
      "Requirement already satisfied: python-dateutil>=2.8.1 in c:\\users\\bjawa\\appdata\\local\\programs\\python\\python311\\lib\\site-packages (from pandas) (2.8.2)\n",
      "Requirement already satisfied: pytz>=2020.1 in c:\\users\\bjawa\\appdata\\local\\programs\\python\\python311\\lib\\site-packages (from pandas) (2022.7)\n",
      "Requirement already satisfied: numpy>=1.21.0 in c:\\users\\bjawa\\appdata\\local\\programs\\python\\python311\\lib\\site-packages (from pandas) (1.23.5)\n",
      "Requirement already satisfied: six>=1.5 in c:\\users\\bjawa\\appdata\\local\\programs\\python\\python311\\lib\\site-packages (from python-dateutil>=2.8.1->pandas) (1.16.0)\n"
     ]
    }
   ],
   "source": [
    "pip install pandas"
   ]
  },
  {
   "cell_type": "markdown",
   "id": "bf4f3210",
   "metadata": {},
   "source": [
    "Introducing Pandas Objects\n",
    "\n",
    "1.Series \n",
    "2.Index \n",
    "3.Data Frame"
   ]
  },
  {
   "cell_type": "code",
   "execution_count": 8,
   "id": "7b8dcb9f",
   "metadata": {},
   "outputs": [
    {
     "name": "stdout",
     "output_type": "stream",
     "text": [
      "0    a\n",
      "1    b\n",
      "2    c\n",
      "dtype: object\n",
      "['a' 'b' 'c']\n",
      "RangeIndex(start=0, stop=3, step=1)\n",
      "a\n",
      "0    a\n",
      "dtype: object\n",
      "i    a\n",
      "j    b\n",
      "k    c\n",
      "dtype: object\n",
      "c\n",
      "p    1.1\n",
      "q    1.2\n",
      "r    1.3\n",
      "dtype: float64\n"
     ]
    }
   ],
   "source": [
    "#Pandas Series Object\n",
    "import pandas as pd\n",
    "a=pd.Series(['a','b','c'])\n",
    "print(a)\n",
    "print(a.values)\n",
    "print(a.index)\n",
    "\n",
    "#Accessing pandas series obj by address\n",
    "print(a[0])\n",
    "print(a[0:1])\n",
    "\n",
    "#Customizing the pandas series obj\n",
    "b=pd.Series(['a','b','c'],index=['i','j','k'])\n",
    "print(b)\n",
    "\n",
    "print(b['k']) # accessing value by using index\n",
    "\n",
    "c=pd.Series([1.1,1.2,1.3],index=['p','q','r'])\n",
    "print(c)"
   ]
  },
  {
   "cell_type": "code",
   "execution_count": 16,
   "id": "b1895c15",
   "metadata": {},
   "outputs": [
    {
     "name": "stdout",
     "output_type": "stream",
     "text": [
      "   ID\n",
      "0   1\n",
      "1   2\n",
      "2   3\n",
      "3   4\n",
      "4   5\n",
      "5   6\n",
      "6   7\n",
      "    Name\n",
      "s1     1\n",
      "s2     2\n",
      "s3     3\n",
      "s4     4\n",
      "s5     5\n",
      "          a         b\n",
      "i  0.874205  0.383507\n",
      "j  0.192764  0.563546\n",
      "k  0.742991  0.930115\n",
      "          0         1         2         3         4\n",
      "0  0.197712  0.259137  0.832187  0.130088  0.705222\n",
      "1  0.600666  0.954055  0.436362  0.773596  0.794628\n",
      "2  0.126142  0.727746  0.215736  0.027637  0.774973\n",
      "3  0.416963  0.650427  0.823443  0.448359  0.366822\n"
     ]
    }
   ],
   "source": [
    "#Pandas DataFrames\n",
    "\n",
    "a=pd.DataFrame([1,2,3,4,5,6,7], columns=['ID'])\n",
    "print(a)\n",
    "\n",
    "#creating a dataframe by using dictionary\n",
    "\n",
    "index_dict={'s1':1,'s2':2,'s3':3,'s4':4,'s5':5}\n",
    "i = pd.Series(index_dict)\n",
    "b= pd.DataFrame(i, columns=['Name'])\n",
    "print(b)\n",
    "\n",
    "#Creating a pandas df using numpy \n",
    "\n",
    "import numpy as np\n",
    "c=pd.DataFrame(np.random.rand(3,2),columns=['a','b'],index=['i','j','k'])\n",
    "print(c)\n",
    "n=np.random.rand(4,5)\n",
    "d=pd.DataFrame(n)\n",
    "print(d)"
   ]
  },
  {
   "cell_type": "code",
   "execution_count": 23,
   "id": "c25eb433",
   "metadata": {},
   "outputs": [
    {
     "name": "stdout",
     "output_type": "stream",
     "text": [
      "Int64Index([1, 2, 3, 4, 5, 6], dtype='int64')\n",
      "2\n",
      "Int64Index([4, 5], dtype='int64')\n",
      "Int64Index([1, 2, 3, 4, 5, 6, 7, 9, 11, 12], dtype='int64')\n",
      "Int64Index([1, 2, 3, 6, 7, 9, 11, 12], dtype='int64')\n"
     ]
    }
   ],
   "source": [
    "#Pandas Index Object\n",
    "\n",
    "ind=pd.Index([1,2,3,4,5,6])\n",
    "ind2=pd.Index([7,5,9,4,11,12])\n",
    "print(ind)\n",
    "\n",
    "print(ind[1])\n",
    "\n",
    "#intersection\n",
    "#union\n",
    "#symmetric_difference\n",
    "print(pd.Index.intersection(ind,ind2))\n",
    "print(pd.Index.union(ind,ind2))\n",
    "print(pd.Index.symmetric_difference(ind,ind2))"
   ]
  },
  {
   "cell_type": "markdown",
   "id": "d30ddd09",
   "metadata": {},
   "source": [
    "Data Indexing and Selection\t\n",
    "    Data Selection in Series\n",
    "\tData Selection in DataFrames\n",
    "\tIndex Preservation\n",
    "\tIndex Alignment\n",
    "\tOperations between Data Frame and Series"
   ]
  },
  {
   "cell_type": "code",
   "execution_count": 27,
   "id": "974d3ef5",
   "metadata": {},
   "outputs": [
    {
     "name": "stdout",
     "output_type": "stream",
     "text": [
      "0    6\n",
      "1    3\n",
      "2    7\n",
      "3    4\n",
      "dtype: int32\n",
      "   A  B  C  D\n",
      "0  6  9  2  6\n",
      "1  7  4  3  7\n",
      "2  7  2  5  4\n"
     ]
    }
   ],
   "source": [
    "#Index Preservation -> By using Numpy  index are preserved in pandas\n",
    "\n",
    "#pandas-> index, series , df\n",
    "\n",
    "import numpy as np\n",
    "import pandas as pd\n",
    "rng= np.random.RandomState(42) \n",
    "ser=pd.Series(rng.randint(0,10,4))\n",
    "print(ser)\n",
    "df = pd.DataFrame(rng.randint(0, 10, (3, 4)),\n",
    "                  columns=['A', 'B', 'C', 'D'])\n",
    "print(df)"
   ]
  },
  {
   "cell_type": "code",
   "execution_count": 30,
   "id": "c25bc109",
   "metadata": {},
   "outputs": [
    {
     "name": "stdout",
     "output_type": "stream",
     "text": [
      "C2      NaN\n",
      "C3      NaN\n",
      "S1      NaN\n",
      "S2    180.0\n",
      "S3      NaN\n",
      "dtype: float64\n"
     ]
    },
    {
     "data": {
      "text/plain": [
       "C2     92.0\n",
       "C3    100.0\n",
       "S1     70.0\n",
       "S2    180.0\n",
       "S3    100.0\n",
       "dtype: float64"
      ]
     },
     "execution_count": 30,
     "metadata": {},
     "output_type": "execute_result"
    }
   ],
   "source": [
    "#Index Alignment\n",
    "#Binary operation -> missing data -> Index alignment concept will come in\n",
    "a=pd.Series({'S1':70,'S2':90,'S3':100},name='Marklist1')\n",
    "b=pd.Series({'S2':90,'C2':92,'C3':100},name='Marklist2')\n",
    "print(a+b)\n",
    "a.add(b, fill_value=0)"
   ]
  },
  {
   "cell_type": "code",
   "execution_count": 31,
   "id": "df753d6a",
   "metadata": {},
   "outputs": [
    {
     "name": "stdout",
     "output_type": "stream",
     "text": [
      "   0\n",
      "0  9\n",
      "1  8\n",
      "2  0\n",
      "   0\n",
      "0  0\n",
      "1  3\n",
      "2  4\n"
     ]
    }
   ],
   "source": [
    "#Operations between Data Frame and Series\n",
    "\n",
    "x=pd.Series([0,3,4])\n",
    "y=pd.DataFrame([9,8,0])\n",
    "z=pd.DataFrame(x)\n",
    "print(y)\n",
    "print(z)"
   ]
  },
  {
   "cell_type": "code",
   "execution_count": null,
   "id": "8507f148",
   "metadata": {},
   "outputs": [],
   "source": []
  }
 ],
 "metadata": {
  "kernelspec": {
   "display_name": "Python 3 (ipykernel)",
   "language": "python",
   "name": "python3"
  },
  "language_info": {
   "codemirror_mode": {
    "name": "ipython",
    "version": 3
   },
   "file_extension": ".py",
   "mimetype": "text/x-python",
   "name": "python",
   "nbconvert_exporter": "python",
   "pygments_lexer": "ipython3",
   "version": "3.11.0"
  }
 },
 "nbformat": 4,
 "nbformat_minor": 5
}
