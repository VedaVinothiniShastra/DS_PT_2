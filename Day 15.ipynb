{
 "cells": [
  {
   "cell_type": "markdown",
   "id": "8c1927d1",
   "metadata": {},
   "source": [
    "Hyperparameters and Model Validation\t\n",
    "    Thinking About Model Validation -> Telling the model is good or bad\n",
    "\tSelecting the Best Model -> Classifcaition -> Naive , decision , random forest,SVM -SVC (Feasible slns) --> (Optimal/ Best Sln)\n",
    "    \n",
    "\tLearning Curves  -> DL , NN\n",
    "\tValidation in Practice: Grid Search"
   ]
  },
  {
   "cell_type": "markdown",
   "id": "f3d06c03",
   "metadata": {},
   "source": [
    "Classification:\n",
    "    1.F1 score: What is F1 score? \n",
    "        F1 score (also known as F-measure, or balanced F-score) is an error metric which measures model performance by calculating the harmonic mean of precision and recall for the minority positive class.\n",
    "        F1 score = 2 * (Precision * recall)/(precision +recall)\n",
    "   eg: \n",
    "   from sklearn.metrics import f1_score\n",
    "    y_true = [0, 1, 0, 0, 1, 1]\n",
    "    y_pred = [0, 0, 1, 0, 0, 1]\n",
    "    f1 = f1_score(y_true, y_pred)\n",
    "    \n",
    "    \n",
    "    > 0.9 Very good\n",
    "    0.8 - 0.9 Good \n",
    "    0.5 - 0.8 OK \n",
    "    < 0.5 Not good\n",
    "    \n",
    "   1.A model will obtain a high F1 score if both Precision and Recall are high \n",
    "   2.A model will obtain a low F1 score if both Precision and Recall are low \n",
    "   3.A model will obtain a medium F1 score if one of Precision and Recall is low and the other is high\n",
    "   \n",
    "   \n",
    " 2.Confusion matrix ->display the performance of model\n",
    " \n",
    "  True , False \n",
    "  Positive or Negative\n",
    "  \n",
    " \n",
    "  1.True Positive: This combination tells us how many times a model correctly classifies a positive sample as Positive? \n",
    "   eg: Gender classifier model -> Female image => yes it is female\n",
    "   \n",
    "  2.False Negative: This combination tells us how many times a model incorrectly classifies a positive sample as Negative?\n",
    "   eg: Gender classifier model -> Female image => It is a Male \n",
    "   \n",
    "  3.False Positive: This combination tells us how many times a model incorrectly classifies a negative sample as Positive?\n",
    "    eg: Gender classifier model -> Female image => It is not a male  \n",
    "  \n",
    "  4.True Negative: This combination tells us how many times a model correctly classifies a negative sample as Negative?\n",
    "  \n",
    "     eg: Gender classifier model -> Female image => It is not a female\n",
    "     \n",
    "    from sklearn.metrics import confusion_matrix\n",
    "    y_true = [2, 0, 2, 2, 0, 1]\n",
    "    y_pred = [0, 0, 2, 2, 0, 2]\n",
    "    confusion_matrix(y_true, y_pred)\n",
    "    \n",
    "    \n",
    "3. Precision\n",
    "    eg: Gender class --> the model classifies gender correctly \n",
    "    Precision = True Positive/(True Positive + False Positive)  \n",
    "                =TP / TP+FP\n",
    "              TP =2 , FP =1\n",
    "              =2/3 =0.66\n",
    "     1 -> 100% -> outstanding\n",
    "     0.75 -> Reasonable value but not outstanding\n",
    "     < 0.75 -> Improve   \n",
    "     \n",
    "     \n",
    "    eg:\n",
    "    from sklearn.metrics import precision_score\n",
    "    y_true = [0, 1, 2, 0, 1, 2]\n",
    "    y_pred = [0, 2, 1, 0, 0, 1]\n",
    "    precision_score(y_true, y_pred)\n",
    "\n",
    "4.Recall -> This model corectly identified the o/p\n",
    "      Recall = True Positive/(True Positive + False Negative)\n",
    "              =TP/TP+FN\n",
    "              \n",
    "       TP = 2\n",
    "       FN= 1  \n",
    "       Recall= 2/3=0.66\n",
    "       \n",
    "       0.75 -> good\n",
    "       <0.75 -> improve\n",
    "       1- outstanding \n",
    "       0 -> bad\n",
    "       \n",
    "    eg:\n",
    "       from sklearn.metrics import recall_score\n",
    "        y_true = [0, 1, 2, 0, 1, 2]\n",
    "        y_pred = [0, 2, 1, 0, 0, 1]\n",
    "        recall_score(y_true, y_pred)   \n",
    "        \n",
    "5.AUC score - Area Under the Receiver Operating Characteristic Curve (ROC AUC)\n",
    "\n",
    "    from sklearn.metrics import roc_auc_score\n",
    "    y_true = [0,1,1,0,0,1]\n",
    "    y_pred = [0,0,1,1,0,1]\n",
    "    auc = roc_auc_score(y_true, y_pred)\n",
    "\n",
    "\n",
    "    AUC score\tInterpretation\n",
    "    >0.8\tVery good performance\n",
    "    0.7-0.8\tGood performance\n",
    "    0.5-0.7\tOK performance\n",
    "    <0.5  As good as random choice\n",
    "    \n",
    "How can I improve my AUC score?\n",
    "To improve your AUC score there are three things that you could do:\n",
    "1.Add more features to your dataset which provide some signal for the target\n",
    "2.Tweak your model by adjusting parameters or the type of model used\n",
    "3.Change the probability threshold at which the classes are chosen\n",
    "  "
   ]
  },
  {
   "cell_type": "code",
   "execution_count": 5,
   "id": "eb467f08",
   "metadata": {},
   "outputs": [
    {
     "name": "stdout",
     "output_type": "stream",
     "text": [
      "0.9066666666666666\n",
      "0.96\n",
      "1.0\n"
     ]
    }
   ],
   "source": [
    "#Model validation the right way\n",
    "from sklearn.datasets import load_iris\n",
    "from sklearn.neighbors import KNeighborsClassifier\n",
    "from sklearn.metrics import accuracy_score\n",
    "from sklearn.model_selection import train_test_split #--> High level  \n",
    "\n",
    "#Loading data\n",
    "iris = load_iris()\n",
    "X = iris.data\n",
    "y = iris.target\n",
    "\n",
    "#creating model\n",
    "model = KNeighborsClassifier(n_neighbors=1)\n",
    "\n",
    "#creating train & test data\n",
    "X1, X2, y1, y2 = train_test_split(X, y, random_state=0,\n",
    "                                  train_size=0.5)\n",
    "\n",
    "\n",
    "#model 1 \n",
    "model.fit(X1, y1)\n",
    "y2_model = model.predict(X2)\n",
    "#model 2\n",
    "y1_model = model.fit(X2, y2).predict(X1)\n",
    "\n",
    "#model 3 --> It is a bad way of model validation\n",
    "model.fit(X,y)\n",
    "y_model=model.predict(X)\n",
    "\n",
    "\n",
    "#Evaluation tech\n",
    "print(accuracy_score(y2,y2_model)) #testing data y2\n",
    "print(accuracy_score(y1,y1_model)) # training data y1\n",
    "print(accuracy_score(y, y_model)) # testing the same data trained"
   ]
  },
  {
   "cell_type": "markdown",
   "id": "13c4d7ab",
   "metadata": {},
   "source": [
    "Selecting the Best Model\n",
    "\n",
    "1.Use a more complicated/more flexible model\n",
    "2.Use a less complicated/less flexible model\n",
    "3.Gather more training samples\n",
    "4.Gather more data to add features to each sample"
   ]
  },
  {
   "cell_type": "code",
   "execution_count": 6,
   "id": "06592621",
   "metadata": {},
   "outputs": [
    {
     "name": "stdout",
     "output_type": "stream",
     "text": [
      "[[0.93402178 0.94366418 0.92648383 0.91933313 0.92922507]\n",
      " [0.9340217  0.94366412 0.92648377 0.91933304 0.929225  ]\n",
      " [0.51143526 0.52415737 0.49868907 0.47086988 0.49623503]]\n",
      "[[0.9055033  0.84185935 0.94569793 0.96231017 0.93366144]\n",
      " [0.90550088 0.84184574 0.94568969 0.96233172 0.93366806]\n",
      " [0.46706558 0.25698974 0.50496293 0.49826404 0.52500014]]\n"
     ]
    }
   ],
   "source": [
    "#Learning Curves \n",
    "import numpy as np\n",
    "from sklearn.model_selection import validation_curve\n",
    "from sklearn.datasets import load_iris\n",
    "from sklearn.linear_model import Ridge # ridge regreesion -> Regularization(Improves the estimation of any problem)\n",
    "\n",
    "np.random.seed(0)\n",
    "X, y = load_iris(return_X_y=True)\n",
    "indices = np.arange(y.shape[0])\n",
    "np.random.shuffle(indices) # shuffle -> take first axis of every dimesn array\n",
    "X, y = X[indices], y[indices]\n",
    "\n",
    "train_scores, valid_scores = validation_curve(\n",
    "    Ridge(), X, y, param_name=\"alpha\", param_range=np.logspace(-7, 3, 3),\n",
    "    cv=5) #--> cv -> cross validation , ridge--> estimator\n",
    "\n",
    "print(train_scores)\n",
    "print(valid_scores)"
   ]
  },
  {
   "cell_type": "code",
   "execution_count": 7,
   "id": "d63d34bc",
   "metadata": {},
   "outputs": [
    {
     "name": "stdout",
     "output_type": "stream",
     "text": [
      "[ 50  80 110]\n",
      "[[0.98       0.98       0.98       0.98       0.98      ]\n",
      " [0.9875     1.         0.9875     0.9875     0.9875    ]\n",
      " [0.98181818 1.         0.98181818 0.98181818 0.99090909]]\n",
      "[[1.         0.93333333 1.         1.         0.96666667]\n",
      " [1.         0.96666667 1.         1.         0.96666667]\n",
      " [1.         0.96666667 1.         1.         0.96666667]]\n"
     ]
    }
   ],
   "source": [
    "from sklearn.model_selection import learning_curve\n",
    "from sklearn.svm import SVC\n",
    "\n",
    "train_sizes, train_scores, valid_scores = learning_curve(\n",
    "    SVC(kernel='linear'), X, y, train_sizes=[50, 80, 110], cv=5)\n",
    "print(train_sizes)\n",
    "print(train_scores)\n",
    "print(valid_scores)"
   ]
  },
  {
   "cell_type": "code",
   "execution_count": 8,
   "id": "7bbaf25b",
   "metadata": {},
   "outputs": [
    {
     "data": {
      "text/plain": [
       "<sklearn.model_selection._plot.LearningCurveDisplay at 0x2783f653a90>"
      ]
     },
     "execution_count": 8,
     "metadata": {},
     "output_type": "execute_result"
    },
    {
     "data": {
      "image/png": "[encoded data removed]",
      "text/plain": [
       "<Figure size 640x480 with 1 Axes>"
      ]
     },
     "metadata": {},
     "output_type": "display_data"
    }
   ],
   "source": [
    "from sklearn.datasets import load_iris\n",
    "from sklearn.model_selection import LearningCurveDisplay\n",
    "from sklearn.svm import SVC\n",
    "from sklearn.utils import shuffle\n",
    "\n",
    "X, y = load_iris(return_X_y=True)\n",
    "X, y = shuffle(X, y, random_state=0)\n",
    "LearningCurveDisplay.from_estimator(\n",
    "   SVC(kernel=\"linear\"), X, y, train_sizes=[50, 80, 110], cv=5)"
   ]
  },
  {
   "cell_type": "markdown",
   "id": "7bde337b",
   "metadata": {},
   "source": [
    "Feature Engineering\t - Data \n",
    "    Categorical Features -> non-numerical data\n",
    "\tText Features \n",
    "\tImage Features\n",
    "\tDerived Features\n",
    "\tImputation of Missing Data\n",
    "\tFeature Pipelines"
   ]
  },
  {
   "cell_type": "code",
   "execution_count": 3,
   "id": "1d22e76f",
   "metadata": {},
   "outputs": [
    {
     "name": "stdout",
     "output_type": "stream",
     "text": [
      "  (0, 1)\t1\n",
      "  (0, 3)\t850000\n",
      "  (0, 4)\t4\n",
      "  (1, 0)\t1\n",
      "  (1, 3)\t700000\n",
      "  (1, 4)\t3\n",
      "  (2, 2)\t1\n",
      "  (2, 3)\t650000\n",
      "  (2, 4)\t3\n",
      "  (3, 0)\t1\n",
      "  (3, 3)\t600000\n",
      "  (3, 4)\t2\n"
     ]
    }
   ],
   "source": [
    "# Categorical Features -> non-numerical data\n",
    "\n",
    "\n",
    "data = [\n",
    "    {'price': 850000, 'rooms': 4, 'neighborhood': 'Queen Anne'},\n",
    "    {'price': 700000, 'rooms': 3, 'neighborhood': 'Fremont'},\n",
    "    {'price': 650000, 'rooms': 3, 'neighborhood': 'Wallingford'},\n",
    "    {'price': 600000, 'rooms': 2, 'neighborhood': 'Fremont'}\n",
    "]\n",
    "\n",
    "from sklearn.feature_extraction import DictVectorizer\n",
    "vec = DictVectorizer(sparse=True, dtype=int)\n",
    "print(vec.fit_transform(data))"
   ]
  },
  {
   "cell_type": "code",
   "execution_count": 7,
   "id": "d8fa96db",
   "metadata": {},
   "outputs": [
    {
     "name": "stdout",
     "output_type": "stream",
     "text": [
      "  (0, 3)\t1\n",
      "  (0, 2)\t1\n",
      "  (0, 0)\t1\n",
      "  (1, 0)\t1\n",
      "  (1, 4)\t1\n",
      "  (2, 3)\t1\n",
      "  (2, 1)\t1\n",
      "   evil  horizon  of  problem  queen\n",
      "0     1        0   1        1      0\n",
      "1     1        0   0        0      1\n",
      "2     0        1   0        1      0\n"
     ]
    }
   ],
   "source": [
    "#Text Features \n",
    "\n",
    "sample = ['problem of evil',\n",
    "          'evil queen',\n",
    "          'horizon problem']\n",
    "from sklearn.feature_extraction.text import CountVectorizer\n",
    "vec = CountVectorizer()\n",
    "X = vec.fit_transform(sample)\n",
    "print(X)\n",
    "import pandas as pd\n",
    "m=pd.DataFrame(X.toarray(), columns=vec.get_feature_names_out())\n",
    "print(m)"
   ]
  },
  {
   "cell_type": "code",
   "execution_count": 8,
   "id": "e7eeb9dc",
   "metadata": {},
   "outputs": [
    {
     "name": "stdout",
     "output_type": "stream",
     "text": [
      "       evil   horizon        of   problem     queen\n",
      "0  0.517856  0.000000  0.680919  0.517856  0.000000\n",
      "1  0.605349  0.000000  0.000000  0.000000  0.795961\n",
      "2  0.000000  0.795961  0.000000  0.605349  0.000000\n"
     ]
    }
   ],
   "source": [
    "#term frequency-inverse document frequency (TF–IDF) \n",
    "\n",
    "from sklearn.feature_extraction.text import TfidfVectorizer\n",
    "vec = TfidfVectorizer()\n",
    "X = vec.fit_transform(sample)\n",
    "n=pd.DataFrame(X.toarray(), columns=vec.get_feature_names_out())\n",
    "print(n)"
   ]
  },
  {
   "cell_type": "code",
   "execution_count": null,
   "id": "36938c40",
   "metadata": {},
   "outputs": [],
   "source": [
    "#Image Features -- Refer doc 19 "
   ]
  },
  {
   "cell_type": "code",
   "execution_count": 15,
   "id": "7daa02d8",
   "metadata": {},
   "outputs": [
    {
     "name": "stdout",
     "output_type": "stream",
     "text": [
      "[[  1.   1.   1.]\n",
      " [  2.   4.   8.]\n",
      " [  3.   9.  27.]\n",
      " [  4.  16.  64.]\n",
      " [  5.  25. 125.]]\n"
     ]
    },
    {
     "data": {
      "image/png": "[encoded data removed]",
      "text/plain": [
       "<Figure size 640x480 with 1 Axes>"
      ]
     },
     "metadata": {},
     "output_type": "display_data"
    }
   ],
   "source": [
    "#Derived features -> 1+1\n",
    "import numpy as np\n",
    "import matplotlib.pyplot as plt\n",
    "x = np.array([1, 2, 3, 4, 5])\n",
    "y = np.array([4, 2, 1, 3, 7])\n",
    "plt.scatter(x, y);\n",
    "from sklearn.linear_model import LinearRegression #--> Prediction , forecasting\n",
    "X = x[:, np.newaxis]\n",
    "model = LinearRegression().fit(X, y)\n",
    "yfit = model.predict(X)\n",
    "plt.scatter(x, y)\n",
    "#plt.plot(x, yfit);\n",
    "from sklearn.preprocessing import PolynomialFeatures\n",
    "poly = PolynomialFeatures(degree=3, include_bias=False)\n",
    "X2 = poly.fit_transform(X)\n",
    "print(X2)\n",
    "model = LinearRegression().fit(X2, y)\n",
    "yfit = model.predict(X2)\n",
    "plt.scatter(x, y)\n",
    "plt.plot(x, yfit);"
   ]
  },
  {
   "cell_type": "code",
   "execution_count": 17,
   "id": "c7859376",
   "metadata": {},
   "outputs": [
    {
     "name": "stdout",
     "output_type": "stream",
     "text": [
      "[[nan  0.  3.]\n",
      " [ 3.  7.  9.]\n",
      " [ 3.  5.  2.]\n",
      " [ 4. nan  6.]\n",
      " [ 8.  8.  1.]]\n",
      "[[4.5 0.  3. ]\n",
      " [3.  7.  9. ]\n",
      " [3.  5.  2. ]\n",
      " [4.  5.  6. ]\n",
      " [8.  8.  1. ]]\n"
     ]
    }
   ],
   "source": [
    "#Imputation of Missing Data\n",
    "\n",
    "from numpy import nan\n",
    "X = np.array([[ nan, 0,   3  ],\n",
    "              [ 3,   7,   9  ],\n",
    "              [ 3,   5,   2  ],\n",
    "              [ 4,   nan, 6  ],\n",
    "              [ 8,   8,   1  ]])\n",
    "y = np.array([14, 16, -1,  8, -5])\n",
    "print(X)\n",
    "\n",
    "from sklearn.impute import SimpleImputer\n",
    "imp = SimpleImputer(strategy='mean') # median, most_frequent, constant (ur choice)\n",
    "X2 = imp.fit_transform(X)\n",
    "print(X2)"
   ]
  },
  {
   "cell_type": "code",
   "execution_count": 19,
   "id": "645c3eda",
   "metadata": {},
   "outputs": [
    {
     "name": "stdout",
     "output_type": "stream",
     "text": [
      "[14 16 -1  8 -5]\n",
      "[14. 16. -1.  8. -5.]\n"
     ]
    }
   ],
   "source": [
    "#Feature Pipelines\n",
    "\n",
    "from sklearn.pipeline import make_pipeline\n",
    "model = make_pipeline(SimpleImputer(strategy='mean'),\n",
    "                      PolynomialFeatures(degree=2),\n",
    "                      LinearRegression())\n",
    "model.fit(X, y)\n",
    "print(y)\n",
    "print(model.predict(X))\n",
    "\n"
   ]
  },
  {
   "cell_type": "code",
   "execution_count": null,
   "id": "812401dc",
   "metadata": {},
   "outputs": [],
   "source": []
  }
 ],
 "metadata": {
  "kernelspec": {
   "display_name": "Python 3 (ipykernel)",
   "language": "python",
   "name": "python3"
  },
  "language_info": {
   "codemirror_mode": {
    "name": "ipython",
    "version": 3
   },
   "file_extension": ".py",
   "mimetype": "text/x-python",
   "name": "python",
   "nbconvert_exporter": "python",
   "pygments_lexer": "ipython3",
   "version": "3.11.0"
  }
 },
 "nbformat": 4,
 "nbformat_minor": 5
}
