{
 "cells": [
  {
   "cell_type": "markdown",
   "id": "3b79eeb8",
   "metadata": {},
   "source": [
    "Hyperparameters and Model Validation\t\n",
    "    Thinking About Model Validation\n",
    "\tSelecting the Best Model\n",
    "\tLearning Curves\n",
    "\tValidation in Practice: Grid Search\n",
    "Feature Engineering\t\n",
    "    Categorical Features\n",
    "\tText Features\n",
    "\tImage Features\n",
    "\tDerived Features\n",
    "\tImputation of Missing Data\n",
    "\tFeature Pipelines"
   ]
  }
 ],
 "metadata": {
  "kernelspec": {
   "display_name": "Python 3 (ipykernel)",
   "language": "python",
   "name": "python3"
  },
  "language_info": {
   "codemirror_mode": {
    "name": "ipython",
    "version": 3
   },
   "file_extension": ".py",
   "mimetype": "text/x-python",
   "name": "python",
   "nbconvert_exporter": "python",
   "pygments_lexer": "ipython3",
   "version": "3.11.0"
  }
 },
 "nbformat": 4,
 "nbformat_minor": 5
}
