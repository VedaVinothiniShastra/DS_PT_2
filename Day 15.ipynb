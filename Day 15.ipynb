{
 "cells": [
  {
   "cell_type": "markdown",
   "id": "8c1927d1",
   "metadata": {},
   "source": [
    "Hyperparameters and Model Validation\t\n",
    "    Thinking About Model Validation -> Telling the model is good or bad\n",
    "\tSelecting the Best Model -> Classifcaition -> Naive , decision , random forest,SVM -SVC (Feasible slns) --> (Optimal/ Best Sln)\n",
    "    \n",
    "\tLearning Curves  -> DL , NN\n",
    "\tValidation in Practice: Grid Search\n",
    "Feature Engineering\t\n",
    "    Categorical Features\n",
    "\tText Features\n",
    "\tImage Features\n",
    "\tDerived Features\n",
    "\tImputation of Missing Data\n",
    "\tFeature Pipelines"
   ]
  },
  {
   "cell_type": "markdown",
   "id": "f3d06c03",
   "metadata": {},
   "source": [
    "Classification:\n",
    "    1.F1 score: What is F1 score? \n",
    "        F1 score (also known as F-measure, or balanced F-score) is an error metric which measures model performance by calculating the harmonic mean of precision and recall for the minority positive class.\n",
    "        F1 score = 2 * (Precision * recall)/(precision +recall)\n",
    "   eg: \n",
    "   from sklearn.metrics import f1_score\n",
    "    y_true = [0, 1, 0, 0, 1, 1]\n",
    "    y_pred = [0, 0, 1, 0, 0, 1]\n",
    "    f1 = f1_score(y_true, y_pred)\n",
    "    \n",
    "    \n",
    "    > 0.9 Very good\n",
    "    0.8 - 0.9 Good \n",
    "    0.5 - 0.8 OK \n",
    "    < 0.5 Not good\n",
    "    \n",
    "   1.A model will obtain a high F1 score if both Precision and Recall are high \n",
    "   2.A model will obtain a low F1 score if both Precision and Recall are low \n",
    "   3.A model will obtain a medium F1 score if one of Precision and Recall is low and the other is high\n",
    "   \n",
    "   \n",
    " 2.Confusion matrix ->display the performance of model\n",
    " \n",
    "  True , False \n",
    "  Positive or Negative\n",
    "  \n",
    " \n",
    "  1.True Positive: This combination tells us how many times a model correctly classifies a positive sample as Positive? \n",
    "   eg: Gender classifier model -> Female image => yes it is female\n",
    "   \n",
    "  2.False Negative: This combination tells us how many times a model incorrectly classifies a positive sample as Negative?\n",
    "   eg: Gender classifier model -> Female image => It is a Male \n",
    "   \n",
    "  3.False Positive: This combination tells us how many times a model incorrectly classifies a negative sample as Positive?\n",
    "    eg: Gender classifier model -> Female image => It is not a male  \n",
    "  \n",
    "  4.True Negative: This combination tells us how many times a model correctly classifies a negative sample as Negative?\n",
    "  \n",
    "     eg: Gender classifier model -> Female image => It is not a female\n",
    "     \n",
    "    from sklearn.metrics import confusion_matrix\n",
    "    y_true = [2, 0, 2, 2, 0, 1]\n",
    "    y_pred = [0, 0, 2, 2, 0, 2]\n",
    "    confusion_matrix(y_true, y_pred)\n",
    "    \n",
    "    \n",
    "3. Precision\n",
    "    eg: Gender class --> the model classifies gender correctly \n",
    "    Precision = True Positive/(True Positive + False Positive)  \n",
    "                =TP / TP+FP\n",
    "              TP =2 , FP =1\n",
    "              =2/3 =0.66\n",
    "     1 -> 100% -> outstanding\n",
    "     0.75 -> Reasonable value but not outstanding\n",
    "     < 0.75 -> Improve   \n",
    "     \n",
    "     \n",
    "    eg:\n",
    "    from sklearn.metrics import precision_score\n",
    "    y_true = [0, 1, 2, 0, 1, 2]\n",
    "    y_pred = [0, 2, 1, 0, 0, 1]\n",
    "    precision_score(y_true, y_pred)\n",
    "\n",
    "4.Recall -> This model corectly identified the o/p\n",
    "      Recall = True Positive/(True Positive + False Negative)\n",
    "              =TP/TP+FN\n",
    "              \n",
    "       TP = 2\n",
    "       FN= 1  \n",
    "       Recall= 2/3=0.66\n",
    "       \n",
    "       0.75 -> good\n",
    "       <0.75 -> improve\n",
    "       1- outstanding \n",
    "       0 -> bad\n",
    "       \n",
    "    eg:\n",
    "       from sklearn.metrics import recall_score\n",
    "        y_true = [0, 1, 2, 0, 1, 2]\n",
    "        y_pred = [0, 2, 1, 0, 0, 1]\n",
    "        recall_score(y_true, y_pred)   \n",
    "        \n",
    "5.AUC score - Area Under the Receiver Operating Characteristic Curve (ROC AUC)\n",
    "\n",
    "    from sklearn.metrics import roc_auc_score\n",
    "    y_true = [0,1,1,0,0,1]\n",
    "    y_pred = [0,0,1,1,0,1]\n",
    "    auc = roc_auc_score(y_true, y_pred)\n",
    "\n",
    "\n",
    "    AUC score\tInterpretation\n",
    "    >0.8\tVery good performance\n",
    "    0.7-0.8\tGood performance\n",
    "    0.5-0.7\tOK performance\n",
    "    <0.5  As good as random choice\n",
    "    \n",
    "How can I improve my AUC score?\n",
    "To improve your AUC score there are three things that you could do:\n",
    "1.Add more features to your dataset which provide some signal for the target\n",
    "2.Tweak your model by adjusting parameters or the type of model used\n",
    "3.Change the probability threshold at which the classes are chosen\n",
    "  "
   ]
  },
  {
   "cell_type": "code",
   "execution_count": 5,
   "id": "eb467f08",
   "metadata": {},
   "outputs": [
    {
     "name": "stdout",
     "output_type": "stream",
     "text": [
      "0.9066666666666666\n",
      "0.96\n",
      "1.0\n"
     ]
    }
   ],
   "source": [
    "#Model validation the right way\n",
    "from sklearn.datasets import load_iris\n",
    "from sklearn.neighbors import KNeighborsClassifier\n",
    "from sklearn.metrics import accuracy_score\n",
    "from sklearn.model_selection import train_test_split #--> High level  \n",
    "\n",
    "#Loading data\n",
    "iris = load_iris()\n",
    "X = iris.data\n",
    "y = iris.target\n",
    "\n",
    "#creating model\n",
    "model = KNeighborsClassifier(n_neighbors=1)\n",
    "\n",
    "#creating train & test data\n",
    "X1, X2, y1, y2 = train_test_split(X, y, random_state=0,\n",
    "                                  train_size=0.5)\n",
    "\n",
    "\n",
    "#model 1 \n",
    "model.fit(X1, y1)\n",
    "y2_model = model.predict(X2)\n",
    "#model 2\n",
    "y1_model = model.fit(X2, y2).predict(X1)\n",
    "\n",
    "#model 3 --> It is a bad way of model validation\n",
    "model.fit(X,y)\n",
    "y_model=model.predict(X)\n",
    "\n",
    "\n",
    "#Evaluation tech\n",
    "print(accuracy_score(y2,y2_model)) #testing data y2\n",
    "print(accuracy_score(y1,y1_model)) # training data y1\n",
    "print(accuracy_score(y, y_model)) # testing the same data trained"
   ]
  },
  {
   "cell_type": "markdown",
   "id": "13c4d7ab",
   "metadata": {},
   "source": [
    "Selecting the Best Model\n",
    "\n",
    "1.Use a more complicated/more flexible model\n",
    "2.Use a less complicated/less flexible model\n",
    "3.Gather more training samples\n",
    "4.Gather more data to add features to each sample"
   ]
  },
  {
   "cell_type": "code",
   "execution_count": 6,
   "id": "06592621",
   "metadata": {},
   "outputs": [
    {
     "name": "stdout",
     "output_type": "stream",
     "text": [
      "[[0.93402178 0.94366418 0.92648383 0.91933313 0.92922507]\n",
      " [0.9340217  0.94366412 0.92648377 0.91933304 0.929225  ]\n",
      " [0.51143526 0.52415737 0.49868907 0.47086988 0.49623503]]\n",
      "[[0.9055033  0.84185935 0.94569793 0.96231017 0.93366144]\n",
      " [0.90550088 0.84184574 0.94568969 0.96233172 0.93366806]\n",
      " [0.46706558 0.25698974 0.50496293 0.49826404 0.52500014]]\n"
     ]
    }
   ],
   "source": [
    "#Learning Curves \n",
    "import numpy as np\n",
    "from sklearn.model_selection import validation_curve\n",
    "from sklearn.datasets import load_iris\n",
    "from sklearn.linear_model import Ridge # ridge regreesion -> Regularization(Improves the estimation of any problem)\n",
    "\n",
    "np.random.seed(0)\n",
    "X, y = load_iris(return_X_y=True)\n",
    "indices = np.arange(y.shape[0])\n",
    "np.random.shuffle(indices) # shuffle -> take first axis of every dimesn array\n",
    "X, y = X[indices], y[indices]\n",
    "\n",
    "train_scores, valid_scores = validation_curve(\n",
    "    Ridge(), X, y, param_name=\"alpha\", param_range=np.logspace(-7, 3, 3),\n",
    "    cv=5) #--> cv -> cross validation , ridge--> estimator\n",
    "\n",
    "print(train_scores)\n",
    "print(valid_scores)"
   ]
  },
  {
   "cell_type": "code",
   "execution_count": 7,
   "id": "d63d34bc",
   "metadata": {},
   "outputs": [
    {
     "name": "stdout",
     "output_type": "stream",
     "text": [
      "[ 50  80 110]\n",
      "[[0.98       0.98       0.98       0.98       0.98      ]\n",
      " [0.9875     1.         0.9875     0.9875     0.9875    ]\n",
      " [0.98181818 1.         0.98181818 0.98181818 0.99090909]]\n",
      "[[1.         0.93333333 1.         1.         0.96666667]\n",
      " [1.         0.96666667 1.         1.         0.96666667]\n",
      " [1.         0.96666667 1.         1.         0.96666667]]\n"
     ]
    }
   ],
   "source": [
    "from sklearn.model_selection import learning_curve\n",
    "from sklearn.svm import SVC\n",
    "\n",
    "train_sizes, train_scores, valid_scores = learning_curve(\n",
    "    SVC(kernel='linear'), X, y, train_sizes=[50, 80, 110], cv=5)\n",
    "print(train_sizes)\n",
    "print(train_scores)\n",
    "print(valid_scores)"
   ]
  },
  {
   "cell_type": "code",
   "execution_count": 8,
   "id": "7bbaf25b",
   "metadata": {},
   "outputs": [
    {
     "data": {
      "text/plain": [
       "<sklearn.model_selection._plot.LearningCurveDisplay at 0x2783f653a90>"
      ]
     },
     "execution_count": 8,
     "metadata": {},
     "output_type": "execute_result"
    },
    {
     "data": {
      "image/png": "[encoded data removed]",
      "text/plain": [
       "<Figure size 640x480 with 1 Axes>"
      ]
     },
     "metadata": {},
     "output_type": "display_data"
    }
   ],
   "source": [
    "from sklearn.datasets import load_iris\n",
    "from sklearn.model_selection import LearningCurveDisplay\n",
    "from sklearn.svm import SVC\n",
    "from sklearn.utils import shuffle\n",
    "\n",
    "X, y = load_iris(return_X_y=True)\n",
    "X, y = shuffle(X, y, random_state=0)\n",
    "LearningCurveDisplay.from_estimator(\n",
    "   SVC(kernel=\"linear\"), X, y, train_sizes=[50, 80, 110], cv=5)"
   ]
  },
  {
   "cell_type": "code",
   "execution_count": null,
   "id": "e4692922",
   "metadata": {},
   "outputs": [],
   "source": []
  }
 ],
 "metadata": {
  "kernelspec": {
   "display_name": "Python 3 (ipykernel)",
   "language": "python",
   "name": "python3"
  },
  "language_info": {
   "codemirror_mode": {
    "name": "ipython",
    "version": 3
   },
   "file_extension": ".py",
   "mimetype": "text/x-python",
   "name": "python",
   "nbconvert_exporter": "python",
   "pygments_lexer": "ipython3",
   "version": "3.11.0"
  }
 },
 "nbformat": 4,
 "nbformat_minor": 5
}
