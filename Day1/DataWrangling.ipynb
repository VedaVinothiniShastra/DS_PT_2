{
 "cells": [
  {
   "cell_type": "markdown",
   "id": "8d995739",
   "metadata": {},
   "source": [
    "Data Wrangling with Python using pandas"
   ]
  },
  {
   "cell_type": "code",
   "execution_count": 11,
   "id": "b53b200b",
   "metadata": {},
   "outputs": [],
   "source": [
    "#pip install pandas \n",
    "#python -m pip install pandas  or py -m pip install pandas\n",
    "\n",
    "import pandas as pd #--> Pandas as dataframe\n",
    "import numpy as np\n",
    "data ={\n",
    "    'Name': ['S1','S2','S3','S4','S5','S6'],\n",
    "    'Marks':[75,80,np.nan,45,np.nan,100], #nan-> Not a number\n",
    "    'Gender':['M','F','F','M','F','M']\n",
    "}\n",
    "data2 ={\n",
    "    'Name': ['S1','S2','S3','S4','S5','S6'],\n",
    "    'Interest':['DS','ML','AI','ML','DS','SD']\n",
    "}\n",
    "d=pd.DataFrame(data)\n",
    "#print(d)\n",
    "d2=pd.DataFrame(data2)\n",
    "#print(d2)"
   ]
  },
  {
   "cell_type": "code",
   "execution_count": 13,
   "id": "b760e657",
   "metadata": {},
   "outputs": [
    {
     "name": "stdout",
     "output_type": "stream",
     "text": [
      "    Name  Marks  Gender\n",
      "0  False  False   False\n",
      "1  False  False   False\n",
      "2  False   True   False\n",
      "3  False  False   False\n",
      "4  False   True   False\n",
      "5  False  False   False\n",
      "    Name  Interest\n",
      "0  False     False\n",
      "1  False     False\n",
      "2  False     False\n",
      "3  False     False\n",
      "4  False     False\n",
      "5  False     False\n",
      "  Name  Marks Gender\n",
      "0   S1   75.0      M\n",
      "1   S2   80.0      F\n",
      "2   S3    0.0      F\n",
      "3   S4   45.0      M\n",
      "4   S5    0.0      F\n",
      "5   S6  100.0      M\n",
      "  Name  Marks Gender\n",
      "0   S1   75.0      M\n",
      "1   S2   80.0      F\n",
      "2   S3    NaN      F\n",
      "3   S4   45.0      M\n",
      "4   S5    NaN      F\n",
      "5   S6  100.0      M\n"
     ]
    }
   ],
   "source": [
    "#Dealing with missing data\n",
    "#isnull -> checking the null data in your df\n",
    "\n",
    "print(d.isnull())\n",
    "print(d2.isnull())\n",
    "\n",
    "#Handle the Null or missing value\n",
    "\n",
    "   # 1.Deleting\n",
    "   # 2.Fill with another value\n",
    "\n",
    "print(d.fillna(0)) #--> Filling null value with 0\n",
    "print(d)"
   ]
  },
  {
   "cell_type": "code",
   "execution_count": 17,
   "id": "69e7e238",
   "metadata": {},
   "outputs": [
    {
     "name": "stdout",
     "output_type": "stream",
     "text": [
      "  Name  Marks  Gender\n",
      "0   S1   75.0       0\n",
      "1   S2   80.0       1\n",
      "2   S3    NaN       1\n",
      "3   S4   45.0       0\n",
      "4   S5    NaN       1\n",
      "5   S6  100.0       0\n"
     ]
    }
   ],
   "source": [
    "#Reshaping the data\n",
    "# M - 0 , F - 1 \n",
    "d['Gender']=d['Gender'].map({'M':0,'F':1})\n",
    "print(d)"
   ]
  },
  {
   "cell_type": "code",
   "execution_count": 19,
   "id": "a41da830",
   "metadata": {},
   "outputs": [
    {
     "name": "stdout",
     "output_type": "stream",
     "text": [
      "  Name  Marks  Gender\n",
      "1   S2   80.0       1\n",
      "5   S6  100.0       0\n"
     ]
    }
   ],
   "source": [
    "#Filtering data\n",
    "f=d[d['Marks']>=80]\n",
    "print(f)"
   ]
  },
  {
   "cell_type": "code",
   "execution_count": 22,
   "id": "7404d408",
   "metadata": {},
   "outputs": [
    {
     "name": "stdout",
     "output_type": "stream",
     "text": [
      "  Name  Marks  Gender\n",
      "1   S2   80.0       1\n"
     ]
    }
   ],
   "source": [
    "#Grouping\n",
    "g=d.groupby('Marks')\n",
    "print(g.get_group(80))"
   ]
  },
  {
   "cell_type": "code",
   "execution_count": 24,
   "id": "f1c7afca",
   "metadata": {},
   "outputs": [
    {
     "name": "stdout",
     "output_type": "stream",
     "text": [
      "  Name  Marks  Gender Interest\n",
      "0   S1   75.0       0       DS\n",
      "1   S2   80.0       1       ML\n",
      "2   S3    NaN       1       AI\n",
      "3   S4   45.0       0       ML\n",
      "4   S5    NaN       1       DS\n",
      "5   S6  100.0       0       SD\n"
     ]
    }
   ],
   "source": [
    "#Merging\n",
    "m=pd.merge(d,d2, on='Name')\n",
    "print(m)"
   ]
  },
  {
   "cell_type": "code",
   "execution_count": null,
   "id": "7946ed59",
   "metadata": {},
   "outputs": [],
   "source": []
  }
 ],
 "metadata": {
  "kernelspec": {
   "display_name": "Python 3 (ipykernel)",
   "language": "python",
   "name": "python3"
  },
  "language_info": {
   "codemirror_mode": {
    "name": "ipython",
    "version": 3
   },
   "file_extension": ".py",
   "mimetype": "text/x-python",
   "name": "python",
   "nbconvert_exporter": "python",
   "pygments_lexer": "ipython3",
   "version": "3.11.0"
  }
 },
 "nbformat": 4,
 "nbformat_minor": 5
}
