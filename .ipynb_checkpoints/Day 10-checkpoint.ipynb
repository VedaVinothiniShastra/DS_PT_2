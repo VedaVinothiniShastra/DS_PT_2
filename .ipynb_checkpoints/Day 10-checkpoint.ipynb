{
 "cells": [
  {
   "cell_type": "markdown",
   "id": "1b906436",
   "metadata": {},
   "source": [
    "High-Performance Pandas\t\n",
    "    Motivating query() and eval()\n",
    "\tCompound Expressions\n",
    "\tpandas.eval() for Efficient Operations\n",
    "\tDataFrame.eval() for Column-Wise Operations\n",
    "\tDataFrame.query() Method\n",
    "Visualization with Matplotlib\t\n",
    "    Importing matplotlib\n",
    "\tSetting Styles\n",
    "\tshow() or No show()?\n",
    "\tSaving Figures to File\n",
    "\tTwo Interfaces for the Price of One"
   ]
  }
 ],
 "metadata": {
  "kernelspec": {
   "display_name": "Python 3 (ipykernel)",
   "language": "python",
   "name": "python3"
  },
  "language_info": {
   "codemirror_mode": {
    "name": "ipython",
    "version": 3
   },
   "file_extension": ".py",
   "mimetype": "text/x-python",
   "name": "python",
   "nbconvert_exporter": "python",
   "pygments_lexer": "ipython3",
   "version": "3.11.0"
  }
 },
 "nbformat": 4,
 "nbformat_minor": 5
}
