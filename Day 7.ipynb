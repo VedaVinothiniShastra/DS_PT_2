{
 "cells": [
  {
   "cell_type": "markdown",
   "id": "793564b8",
   "metadata": {},
   "source": [
    "Handling Missing Data\t-> null , NAN , NA value \n",
    "    Trade-Offs in Missing Data Conventions\n",
    "\tMissing Data in Pandas\n",
    "\tOperating on Null Values"
   ]
  },
  {
   "cell_type": "code",
   "execution_count": 5,
   "id": "a2b90c96",
   "metadata": {},
   "outputs": [
    {
     "name": "stdout",
     "output_type": "stream",
     "text": [
      "[ 1. nan  2.  3.]\n",
      "[ 1. nan  2.  3.]\n",
      "[ 2. nan  4.  6.]\n"
     ]
    }
   ],
   "source": [
    "import pandas as pd\n",
    "import numpy as np\n",
    "npa=np.array([1,np.nan,2,3])\n",
    "print(npa)\n",
    "npa2=np.array([1,np.nan,2,3])\n",
    "print(npa2)\n",
    "# Is addition possible between npa & npa2?\n",
    "print(npa+npa2)\n"
   ]
  },
  {
   "cell_type": "markdown",
   "id": "ddff4a87",
   "metadata": {},
   "source": [
    "Operating/Handling on Null Values:\n",
    "1.Detect the null value \n",
    "2.Drop the null value\n",
    "3.Fill the null value\n"
   ]
  },
  {
   "cell_type": "code",
   "execution_count": 10,
   "id": "2c08b5e4",
   "metadata": {},
   "outputs": [
    {
     "name": "stdout",
     "output_type": "stream",
     "text": [
      "       0\n",
      "0  False\n",
      "1   True\n",
      "2  False\n",
      "3  False\n",
      "     0\n",
      "0  1.0\n",
      "1  NaN\n",
      "2  2.0\n",
      "3  3.0\n"
     ]
    }
   ],
   "source": [
    "#Detect the null value  -> isnull(),notnull()\n",
    "d=pd.DataFrame([1,np.nan,2,3])\n",
    "print(d.isnull())\n",
    "print(d[d.notnull()])"
   ]
  },
  {
   "cell_type": "code",
   "execution_count": 11,
   "id": "c12091d7",
   "metadata": {},
   "outputs": [
    {
     "name": "stdout",
     "output_type": "stream",
     "text": [
      "     0\n",
      "0  1.0\n",
      "2  2.0\n",
      "3  3.0\n"
     ]
    }
   ],
   "source": [
    "#Drop the null value\n",
    "print(d.dropna())"
   ]
  },
  {
   "cell_type": "code",
   "execution_count": 13,
   "id": "00f64979",
   "metadata": {},
   "outputs": [
    {
     "name": "stdout",
     "output_type": "stream",
     "text": [
      "     0\n",
      "0  1.0\n",
      "1  0.0\n",
      "2  2.0\n",
      "3  3.0\n",
      "     0\n",
      "0  1.0\n",
      "1  1.0\n",
      "2  2.0\n",
      "3  3.0\n",
      "     0\n",
      "0  1.0\n",
      "1  2.0\n",
      "2  2.0\n",
      "3  3.0\n"
     ]
    }
   ],
   "source": [
    "#Fill null values\n",
    "print(d.fillna(0))\n",
    "#forward fill , backward fill\n",
    "print(d.fillna(method='ffill'))\n",
    "print(d.fillna(method='bfill'))"
   ]
  },
  {
   "cell_type": "markdown",
   "id": "dd25484a",
   "metadata": {},
   "source": [
    "Hierarchical Indexing\t\n",
    "    A Multiply Indexed Series\n",
    "\tMethods of MultiIndex Creation\n",
    "\tIndexing and Slicing a MultiIndex\n",
    "\tRearranging Multi-Indices\n",
    "\tData Aggregations on Multi-Indices"
   ]
  },
  {
   "cell_type": "code",
   "execution_count": 17,
   "id": "72193ea3",
   "metadata": {},
   "outputs": [
    {
     "name": "stdout",
     "output_type": "stream",
     "text": [
      "        data1     data2\n",
      "a 1  0.211121  0.707534\n",
      "  2  0.999975  0.714541\n",
      "b 1  0.216951  0.120810\n",
      "  2  0.330178  0.014801\n",
      "California  2000    33871648\n",
      "            2010    37253956\n",
      "Texas       2000    20851820\n",
      "            2010    25145561\n",
      "New York    2000    18976457\n",
      "            2010    19378102\n",
      "dtype: int64\n"
     ]
    }
   ],
   "source": [
    "#Methods of MultiIndex Creation\n",
    "\n",
    "#a = [('California', 2000), ('California', 2010),\n",
    "         #('New York', 2000), ('New York', 2010),\n",
    "        # ('Texas', 2000), ('Texas', 2010)]\n",
    "#b = pd.MultiIndex.from_tuples(a)\n",
    "#print(b)\n",
    "\n",
    "df = pd.DataFrame(np.random.rand(4,2), index =[['a','a','b','b'],[1,2,1,2]],\n",
    "                 columns=['data1','data2'])\n",
    "print(df)\n",
    "\n",
    "a = {('California', 2000): 33871648,\n",
    "        ('California', 2010): 37253956,\n",
    "        ('Texas', 2000): 20851820,\n",
    "        ('Texas', 2010): 25145561,\n",
    "        ('New York', 2000): 18976457,\n",
    "        ('New York', 2010): 19378102}\n",
    "b=pd.Series(a)\n",
    "print(b)"
   ]
  },
  {
   "cell_type": "code",
   "execution_count": 28,
   "id": "52c5fa82",
   "metadata": {},
   "outputs": [
    {
     "name": "stdout",
     "output_type": "stream",
     "text": [
      "California  2000    33871648\n",
      "            2010    37253956\n",
      "Texas       2000    20851820\n",
      "            2010    25145561\n",
      "New York    2000    18976457\n",
      "            2010    19378102\n",
      "dtype: int64\n",
      "33871648\n",
      "2000    18976457\n",
      "2010    19378102\n",
      "dtype: int64\n",
      "California  2000    33871648\n",
      "            2010    37253956\n",
      "Texas       2000    20851820\n",
      "            2010    25145561\n",
      "New York    2010    19378102\n",
      "dtype: int64\n",
      "        data1     data2\n",
      "a 1  0.204208  0.499045\n",
      "  2  0.213550  0.778720\n",
      "b 1  0.547693  0.686019\n",
      "  2  0.363194  0.034964\n",
      "        data1     data2\n",
      "a 1  0.204208  0.499045\n",
      "b 1  0.547693  0.686019\n"
     ]
    }
   ],
   "source": [
    "#Indexing and Slicing a MultiIndex\n",
    "\n",
    "\n",
    "#Indexing\n",
    "a = {('California', 2000): 33871648,\n",
    "        ('California', 2010): 37253956,\n",
    "        ('Texas', 2000): 20851820,\n",
    "        ('Texas', 2010): 25145561,\n",
    "        ('New York', 2000): 18976457,\n",
    "        ('New York', 2010): 19378102}\n",
    "b=pd.Series(a)\n",
    "print(b)\n",
    "print(b['California',2000]) # indexing with index name and column name\n",
    "print(b['New York'])# indexing with index name\n",
    "print(b[b>18976457])\n",
    "\n",
    "#Slicing ->IndexSlice\n",
    "\n",
    "#CRUD -> C reation , R etrival , U pdation , D eletion\n",
    "\n",
    "df = pd.DataFrame(np.random.rand(4, 2),\n",
    "                  index=[['a', 'a', 'b', 'b'], [1, 2, 1, 2]],\n",
    "                  columns=['data1', 'data2'])\n",
    "idx=pd.IndexSlice\n",
    "print(df)\n",
    "print(df.loc[idx[:,1],:]) # Slicing value using index "
   ]
  },
  {
   "cell_type": "code",
   "execution_count": 30,
   "id": "cd53e12e",
   "metadata": {},
   "outputs": [
    {
     "name": "stdout",
     "output_type": "stream",
     "text": [
      "        data1     data2\n",
      "a 1  0.644382  0.026469\n",
      "  2  0.361691  0.109061\n",
      "b 1  0.816906  0.841155\n",
      "  2  0.342397  0.404735\n",
      "      data1     data2\n",
      "0  0.644382  0.026469\n",
      "1  0.361691  0.109061\n",
      "2  0.816906  0.841155\n",
      "3  0.342397  0.404735\n"
     ]
    }
   ],
   "source": [
    "#Rearranging Multi-Indices -> Stack() , Unstack()\n",
    "\n",
    "#Stacking -> Creating a multi index\n",
    "df = pd.DataFrame(np.random.rand(4, 2),\n",
    "                  index=[['a', 'a', 'b', 'b'], [1, 2, 1, 2]],\n",
    "                  columns=['data1', 'data2'])\n",
    "print(df)\n",
    "#Unstacking or rearranging\n",
    "\n",
    "df.reset_index(drop=True, inplace=True)\n",
    "print(df)"
   ]
  },
  {
   "cell_type": "code",
   "execution_count": 35,
   "id": "2b07c07d",
   "metadata": {},
   "outputs": [
    {
     "name": "stdout",
     "output_type": "stream",
     "text": [
      "       Maths    English   Science   History\n",
      "count    3.0   3.000000  3.000000  3.000000\n",
      "mean     8.0   6.666667  7.666667  6.666667\n",
      "std      1.0   3.055050  0.577350  2.081666\n",
      "min      7.0   4.000000  7.000000  5.000000\n",
      "25%      7.5   5.000000  7.500000  5.500000\n",
      "50%      8.0   6.000000  8.000000  6.000000\n",
      "75%      8.5   8.000000  8.000000  7.500000\n",
      "max      9.0  10.000000  8.000000  9.000000\n",
      "Maths      24\n",
      "English    20\n",
      "Science    23\n",
      "History    20\n",
      "dtype: int64\n",
      "       English  Science  History\n",
      "Maths                           \n",
      "7            6        8        5\n",
      "8           10        7        6\n",
      "9            4        8        9\n",
      "     Maths   English   Science    History\n",
      "sum   24.0  20.00000  23.00000  20.000000\n",
      "min    7.0   4.00000   7.00000   5.000000\n",
      "max    9.0  10.00000   8.00000   9.000000\n",
      "std    1.0   3.05505   0.57735   2.081666\n"
     ]
    }
   ],
   "source": [
    "#Data Aggregations on Multi-Indices -> sum, min, max\n",
    "df = pd.DataFrame([[9, 4, 8, 9],\n",
    "                   [8, 10, 7, 6],\n",
    "                   [7, 6, 8, 5]],\n",
    "                  columns=['Maths',  'English', \n",
    "                           'Science', 'History'])\n",
    "print(df.describe()) #-> Main fun of agg\n",
    "print(df.sum())\n",
    "g=df.groupby(by=['Maths'])\n",
    "print(g.first())\n",
    "print(df.agg(['sum','min','max','std']))"
   ]
  },
  {
   "cell_type": "code",
   "execution_count": null,
   "id": "0e4ac933",
   "metadata": {},
   "outputs": [],
   "source": []
  }
 ],
 "metadata": {
  "kernelspec": {
   "display_name": "Python 3 (ipykernel)",
   "language": "python",
   "name": "python3"
  },
  "language_info": {
   "codemirror_mode": {
    "name": "ipython",
    "version": 3
   },
   "file_extension": ".py",
   "mimetype": "text/x-python",
   "name": "python",
   "nbconvert_exporter": "python",
   "pygments_lexer": "ipython3",
   "version": "3.11.0"
  }
 },
 "nbformat": 4,
 "nbformat_minor": 5
}
