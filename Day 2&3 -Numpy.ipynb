{
 "cells": [
  {
   "cell_type": "markdown",
   "id": "fbfa71cf",
   "metadata": {},
   "source": [
    "NumPy -> Numerical Python\n",
    "    1.It is a open source library\n",
    "    2.It will only work with homo geneous value \n",
    "    eg:{1,2,3,4,5}{0.1,0.2}\n",
    "    3.It is very faster \n",
    "    Array -> hetero value {0.1,1,'string'} -> Slower \n",
    "    \n",
    "    Install Numpy -> pip install numpy\n",
    "    \n",
    "    Understanding Data Types in Python\n",
    "\tFixed-Type Arrays\n",
    "\tArrays from Lists\n",
    "\tArrays from Scratch"
   ]
  },
  {
   "cell_type": "code",
   "execution_count": 1,
   "id": "5d1a5415",
   "metadata": {},
   "outputs": [
    {
     "name": "stdout",
     "output_type": "stream",
     "text": [
      "Requirement already satisfied: numpy in c:\\users\\bjawa\\appdata\\local\\programs\\python\\python311\\lib\\site-packages (1.23.5)\n",
      "Note: you may need to restart the kernel to use updated packages.\n"
     ]
    }
   ],
   "source": [
    "pip install numpy"
   ]
  },
  {
   "cell_type": "code",
   "execution_count": 6,
   "id": "66ceaa7b",
   "metadata": {},
   "outputs": [
    {
     "name": "stdout",
     "output_type": "stream",
     "text": [
      "1.23.5\n",
      "[1 2 3 4 5 6 7]\n",
      "[5 6 7 8]\n",
      "<class 'list'>\n",
      "<class 'numpy.ndarray'>\n"
     ]
    }
   ],
   "source": [
    "#Understanding Data Types in Python\n",
    "import numpy as np\n",
    "print(np.__version__)\n",
    "#Array , list \n",
    "# creating from scrach\n",
    "a=np.array([1,2,3,4,5,6,7])\n",
    "print(a)\n",
    "\n",
    "#Creating numpy Arrays from Lists\n",
    "l=[5,6,7,8]\n",
    "a1=np.array(l)\n",
    "print(a1)\n",
    "print(type(l))\n",
    "print(type(a1))\n"
   ]
  },
  {
   "cell_type": "markdown",
   "id": "1094543d",
   "metadata": {},
   "source": [
    "The Basics of NumPy Arrays\t\n",
    "    NumPy Array Attributes\n",
    "\tArray Indexing: Accessing Single Elements\n",
    "\tArray Slicing: Accessing Subarrays\n",
    "\tReshaping of Arrays\n",
    "\tArray Concatenation\n",
    "\tSplitting\n",
    "NumPy Universal Functions\t\n",
    "    Introducing UFuncs\n",
    "\tExploring NumPy’s Ufuncs\n",
    "\tAdvanced Ufunc Features\n",
    "Aggregations\t\n",
    "    Min\n",
    "\tMax\n",
    "\tSumming the values in an Array"
   ]
  },
  {
   "cell_type": "markdown",
   "id": "17be3158",
   "metadata": {},
   "source": [
    "The Basics of NumPy Arrays\t\n",
    "    NumPy Array Attributes\n",
    "\tArray Indexing: Accessing Single Elements\n",
    "\tArray Slicing: Accessing Subarrays\n",
    "\tReshaping of Arrays\n",
    "\tArray Concatenation\n",
    "\tSplitting"
   ]
  },
  {
   "cell_type": "code",
   "execution_count": 3,
   "id": "08aa74c2",
   "metadata": {},
   "outputs": [
    {
     "name": "stdout",
     "output_type": "stream",
     "text": [
      "60\n",
      "[1 2 3 4 5]\n",
      "[[1 2 3]\n",
      " [4 5 6]]\n",
      "[[[1 2]\n",
      "  [3 4]]\n",
      "\n",
      " [[5 6]\n",
      "  [7 8]]]\n"
     ]
    }
   ],
   "source": [
    "#Dimension in numpy array\n",
    "import numpy as np\n",
    "zd=np.array(60)\n",
    "oneD=np.array([1,2,3,4,5])\n",
    "twoD=np.array([[1,2,3],[4,5,6]])\n",
    "ThreeD=np.array([[[1,2],[3,4]],[[5,6,],[7,8]]])\n",
    "print(zd)\n",
    "print(oneD)\n",
    "print(twoD)\n",
    "print(ThreeD)"
   ]
  },
  {
   "cell_type": "code",
   "execution_count": 4,
   "id": "cd4c0ecd",
   "metadata": {},
   "outputs": [
    {
     "name": "stdout",
     "output_type": "stream",
     "text": [
      "3\n",
      "(2, 2, 2)\n",
      "8\n",
      "int32\n"
     ]
    }
   ],
   "source": [
    "# NumPy Array Attributes\n",
    "    #1.Determining the size 1d, 2d, 3d\n",
    "    #2.Shape\n",
    "    #3.Memory consumption\n",
    "    #4.Data types\n",
    "Att=np.array([[[1,2],[3,4]],[[5,6,],[7,8]]])\n",
    "print(Att.ndim) # dimension\n",
    "print(Att.shape) #shape --> dimesnion (2,2), count of value(2)\n",
    "print(Att.size) #memory consumption\n",
    "print(Att.dtype) #Data type\n"
   ]
  },
  {
   "cell_type": "code",
   "execution_count": 8,
   "id": "8630afa5",
   "metadata": {},
   "outputs": [
    {
     "name": "stdout",
     "output_type": "stream",
     "text": [
      "3\n",
      "4\n",
      "8\n",
      "4\n"
     ]
    }
   ],
   "source": [
    "#Array Indexing: Accessing Single Elements\n",
    "oneD=np.array([1,2,3,4,5])\n",
    "twoD=np.array([[1,2,3],[4,5,6]])\n",
    "ThreeD=np.array([[[1,2],[3,4]],[[5,6],[7,8]]])\n",
    "print(oneD[2]) # 1d\n",
    "print(twoD[1,0]) #2d\n",
    "print(ThreeD[1,1,1]) #3d accessing value 8\n",
    "print(ThreeD[0,1,1]) #3d accessing value 4"
   ]
  },
  {
   "cell_type": "code",
   "execution_count": 14,
   "id": "0578c3dd",
   "metadata": {},
   "outputs": [
    {
     "name": "stdout",
     "output_type": "stream",
     "text": [
      "[1 2 3 4]\n",
      "[5 6 7]\n",
      "[3 4 5]\n",
      "[1 3 5 7]\n",
      "[7 6 5 4 3 2 1]\n"
     ]
    }
   ],
   "source": [
    "#Array Slicing: Accessing Subarrays\n",
    "#start =0 , stop : len of array\n",
    "a1d=np.array([1,2,3,4,5,6,7])\n",
    "#neglect the given index and print all prev value\n",
    "print(a1d[:4])\n",
    "print(a1d[4:]) #inclue the index and print until the len\n",
    "print(a1d[2:5]) # include both index \n",
    "print(a1d[::2]) #Skip all 2nd value \n",
    "print(a1d[::-1]) #reverse the array"
   ]
  },
  {
   "cell_type": "code",
   "execution_count": 16,
   "id": "b5d939ca",
   "metadata": {},
   "outputs": [
    {
     "name": "stdout",
     "output_type": "stream",
     "text": [
      "(6,)\n",
      "[[1 2]\n",
      " [3 4]\n",
      " [5 6]]\n"
     ]
    }
   ],
   "source": [
    "#Reshaping of Arrays\n",
    "r=np.array([1,2,3,4,5,6])\n",
    "print(r.shape)\n",
    "print(r.reshape(3,2))"
   ]
  },
  {
   "cell_type": "code",
   "execution_count": 19,
   "id": "5e887d7f",
   "metadata": {},
   "outputs": [
    {
     "name": "stdout",
     "output_type": "stream",
     "text": [
      "[ 1  2  3  4  5  6  7  8  9 10 11 12]\n"
     ]
    }
   ],
   "source": [
    "#Array Concatenation\n",
    "a1=np.array([1,2,3,4,5,6])\n",
    "a2=np.array([7,8,9,10,11,12])\n",
    "print(np.concatenate([a1,a2]))"
   ]
  },
  {
   "cell_type": "code",
   "execution_count": 21,
   "id": "a45d4cb2",
   "metadata": {},
   "outputs": [
    {
     "name": "stdout",
     "output_type": "stream",
     "text": [
      "[1 2 3 4 5 6]\n",
      "[ 7  8  9 10 11 12]\n"
     ]
    }
   ],
   "source": [
    "#Splitting\n",
    "s=np.array([1,2,3,4,5,6,7,8,9,10,11,12])\n",
    "ss=np.split(s,2)\n",
    "print(ss[0])\n",
    "print(ss[1])"
   ]
  },
  {
   "cell_type": "code",
   "execution_count": null,
   "id": "095458d2",
   "metadata": {},
   "outputs": [],
   "source": []
  }
 ],
 "metadata": {
  "kernelspec": {
   "display_name": "Python 3 (ipykernel)",
   "language": "python",
   "name": "python3"
  },
  "language_info": {
   "codemirror_mode": {
    "name": "ipython",
    "version": 3
   },
   "file_extension": ".py",
   "mimetype": "text/x-python",
   "name": "python",
   "nbconvert_exporter": "python",
   "pygments_lexer": "ipython3",
   "version": "3.11.0"
  }
 },
 "nbformat": 4,
 "nbformat_minor": 5
}
