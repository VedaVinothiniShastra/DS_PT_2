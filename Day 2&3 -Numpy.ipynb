{
 "cells": [
  {
   "cell_type": "markdown",
   "id": "fbfa71cf",
   "metadata": {},
   "source": [
    "NumPy -> Numerical Python\n",
    "    1.It is a open source library\n",
    "    2.It will only work with homo geneous value \n",
    "    eg:{1,2,3,4,5}{0.1,0.2}\n",
    "    3.It is very faster \n",
    "    Array -> hetero value {0.1,1,'string'} -> Slower \n",
    "    \n",
    "    Install Numpy -> pip install numpy\n",
    "    \n",
    "    Understanding Data Types in Python\n",
    "\tFixed-Type Arrays\n",
    "\tArrays from Lists\n",
    "\tArrays from Scratch"
   ]
  },
  {
   "cell_type": "code",
   "execution_count": 1,
   "id": "5d1a5415",
   "metadata": {},
   "outputs": [
    {
     "name": "stdout",
     "output_type": "stream",
     "text": [
      "Requirement already satisfied: numpy in c:\\users\\bjawa\\appdata\\local\\programs\\python\\python311\\lib\\site-packages (1.23.5)\n",
      "Note: you may need to restart the kernel to use updated packages.\n"
     ]
    }
   ],
   "source": [
    "pip install numpy"
   ]
  },
  {
   "cell_type": "code",
   "execution_count": 6,
   "id": "66ceaa7b",
   "metadata": {},
   "outputs": [
    {
     "name": "stdout",
     "output_type": "stream",
     "text": [
      "1.23.5\n",
      "[1 2 3 4 5 6 7]\n",
      "[5 6 7 8]\n",
      "<class 'list'>\n",
      "<class 'numpy.ndarray'>\n"
     ]
    }
   ],
   "source": [
    "#Understanding Data Types in Python\n",
    "import numpy as np\n",
    "print(np.__version__)\n",
    "#Array , list \n",
    "# creating from scrach\n",
    "a=np.array([1,2,3,4,5,6,7])\n",
    "print(a)\n",
    "\n",
    "#Creating numpy Arrays from Lists\n",
    "l=[5,6,7,8]\n",
    "a1=np.array(l)\n",
    "print(a1)\n",
    "print(type(l))\n",
    "print(type(a1))\n"
   ]
  },
  {
   "cell_type": "markdown",
   "id": "1094543d",
   "metadata": {},
   "source": [
    "The Basics of NumPy Arrays\t\n",
    "    NumPy Array Attributes\n",
    "\tArray Indexing: Accessing Single Elements\n",
    "\tArray Slicing: Accessing Subarrays\n",
    "\tReshaping of Arrays\n",
    "\tArray Concatenation\n",
    "\tSplitting\n",
    "NumPy Universal Functions\t\n",
    "    Introducing UFuncs\n",
    "\tExploring NumPy’s Ufuncs\n",
    "\tAdvanced Ufunc Features\n",
    "Aggregations\t\n",
    "    Min\n",
    "\tMax\n",
    "\tSumming the values in an Array"
   ]
  },
  {
   "cell_type": "markdown",
   "id": "17be3158",
   "metadata": {},
   "source": [
    "The Basics of NumPy Arrays\t\n",
    "    NumPy Array Attributes\n",
    "\tArray Indexing: Accessing Single Elements\n",
    "\tArray Slicing: Accessing Subarrays\n",
    "\tReshaping of Arrays\n",
    "\tArray Concatenation\n",
    "\tSplitting"
   ]
  },
  {
   "cell_type": "code",
   "execution_count": null,
   "id": "08aa74c2",
   "metadata": {},
   "outputs": [],
   "source": [
    "#Dimension in numpy array\n",
    "zd=np.array(60)\n",
    "oneD=np.array([1,2,3,4,5])\n",
    "twoD=np.array([[1,2,3],[4,5,6]])\n",
    "ThreeD=np.array([[[1,2],[3,4]],[[5,6,],[]]])\n"
   ]
  },
  {
   "cell_type": "code",
   "execution_count": null,
   "id": "cd4c0ecd",
   "metadata": {},
   "outputs": [],
   "source": [
    "# NumPy Array Attributes\n",
    "    #1.Determining the size 1d, 2d, 3d\n",
    "    #2.Shape\n",
    "    #3.Memory consumption\n",
    "    #4.Data types\n",
    "    \n"
   ]
  }
 ],
 "metadata": {
  "kernelspec": {
   "display_name": "Python 3 (ipykernel)",
   "language": "python",
   "name": "python3"
  },
  "language_info": {
   "codemirror_mode": {
    "name": "ipython",
    "version": 3
   },
   "file_extension": ".py",
   "mimetype": "text/x-python",
   "name": "python",
   "nbconvert_exporter": "python",
   "pygments_lexer": "ipython3",
   "version": "3.11.0"
  }
 },
 "nbformat": 4,
 "nbformat_minor": 5
}
