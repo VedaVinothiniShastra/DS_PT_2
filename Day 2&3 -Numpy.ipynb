{
 "cells": [
  {
   "cell_type": "markdown",
   "id": "fbfa71cf",
   "metadata": {},
   "source": [
    "NumPy -> Numerical Python\n",
    "    1.It is a open source library\n",
    "    2.It will only work with homo geneous value \n",
    "    eg:{1,2,3,4,5}{0.1,0.2}\n",
    "    3.It is very faster \n",
    "    Array -> hetero value {0.1,1,'string'} -> Slower \n",
    "    \n",
    "    Install Numpy -> pip install numpy\n",
    "    \n",
    "    Understanding Data Types in Python\n",
    "\tFixed-Type Arrays\n",
    "\tArrays from Lists\n",
    "\tArrays from Scratch"
   ]
  },
  {
   "cell_type": "code",
   "execution_count": 1,
   "id": "5d1a5415",
   "metadata": {},
   "outputs": [
    {
     "name": "stdout",
     "output_type": "stream",
     "text": [
      "Requirement already satisfied: numpy in c:\\users\\bjawa\\appdata\\local\\programs\\python\\python311\\lib\\site-packages (1.23.5)\n",
      "Note: you may need to restart the kernel to use updated packages.\n"
     ]
    }
   ],
   "source": [
    "pip install numpy"
   ]
  },
  {
   "cell_type": "code",
   "execution_count": 6,
   "id": "66ceaa7b",
   "metadata": {},
   "outputs": [
    {
     "name": "stdout",
     "output_type": "stream",
     "text": [
      "1.23.5\n",
      "[1 2 3 4 5 6 7]\n",
      "[5 6 7 8]\n",
      "<class 'list'>\n",
      "<class 'numpy.ndarray'>\n"
     ]
    }
   ],
   "source": [
    "#Understanding Data Types in Python\n",
    "import numpy as np\n",
    "print(np.__version__)\n",
    "#Array , list \n",
    "# creating from scrach\n",
    "a=np.array([1,2,3,4,5,6,7])\n",
    "print(a)\n",
    "\n",
    "#Creating numpy Arrays from Lists\n",
    "l=[5,6,7,8]\n",
    "a1=np.array(l)\n",
    "print(a1)\n",
    "print(type(l))\n",
    "print(type(a1))\n"
   ]
  },
  {
   "cell_type": "markdown",
   "id": "1094543d",
   "metadata": {},
   "source": [
    "The Basics of NumPy Arrays\t\n",
    "    NumPy Array Attributes\n",
    "\tArray Indexing: Accessing Single Elements\n",
    "\tArray Slicing: Accessing Subarrays\n",
    "\tReshaping of Arrays\n",
    "\tArray Concatenation\n",
    "\tSplitting\n",
    "NumPy Universal Functions\t\n",
    "    Introducing UFuncs\n",
    "\tExploring NumPy’s Ufuncs\n",
    "\tAdvanced Ufunc Features\n",
    "Aggregations\t\n",
    "    Min\n",
    "\tMax\n",
    "\tSumming the values in an Array"
   ]
  },
  {
   "cell_type": "markdown",
   "id": "17be3158",
   "metadata": {},
   "source": [
    "The Basics of NumPy Arrays\t\n",
    "    NumPy Array Attributes\n",
    "\tArray Indexing: Accessing Single Elements\n",
    "\tArray Slicing: Accessing Subarrays\n",
    "\tReshaping of Arrays\n",
    "\tArray Concatenation\n",
    "\tSplitting"
   ]
  },
  {
   "cell_type": "code",
   "execution_count": 3,
   "id": "08aa74c2",
   "metadata": {},
   "outputs": [
    {
     "name": "stdout",
     "output_type": "stream",
     "text": [
      "60\n",
      "[1 2 3 4 5]\n",
      "[[1 2 3]\n",
      " [4 5 6]]\n",
      "[[[1 2]\n",
      "  [3 4]]\n",
      "\n",
      " [[5 6]\n",
      "  [7 8]]]\n"
     ]
    }
   ],
   "source": [
    "#Dimension in numpy array\n",
    "import numpy as np\n",
    "zd=np.array(60)\n",
    "oneD=np.array([1,2,3,4,5])\n",
    "twoD=np.array([[1,2,3],[4,5,6]])\n",
    "ThreeD=np.array([[[1,2],[3,4]],[[5,6,],[7,8]]])\n",
    "print(zd)\n",
    "print(oneD)\n",
    "print(twoD)\n",
    "print(ThreeD)"
   ]
  },
  {
   "cell_type": "code",
   "execution_count": 4,
   "id": "cd4c0ecd",
   "metadata": {},
   "outputs": [
    {
     "name": "stdout",
     "output_type": "stream",
     "text": [
      "3\n",
      "(2, 2, 2)\n",
      "8\n",
      "int32\n"
     ]
    }
   ],
   "source": [
    "# NumPy Array Attributes\n",
    "    #1.Determining the size 1d, 2d, 3d\n",
    "    #2.Shape\n",
    "    #3.Memory consumption\n",
    "    #4.Data types\n",
    "Att=np.array([[[1,2],[3,4]],[[5,6,],[7,8]]])\n",
    "print(Att.ndim) # dimension\n",
    "print(Att.shape) #shape --> dimesnion (2,2), count of value(2)\n",
    "print(Att.size) #memory consumption\n",
    "print(Att.dtype) #Data type\n"
   ]
  },
  {
   "cell_type": "code",
   "execution_count": 8,
   "id": "e0e23862",
   "metadata": {},
   "outputs": [
    {
     "name": "stdout",
     "output_type": "stream",
     "text": [
      "3\n",
      "4\n",
      "8\n",
      "4\n"
     ]
    }
   ],
   "source": [
    "#Array Indexing: Accessing Single Elements\n",
    "oneD=np.array([1,2,3,4,5])\n",
    "twoD=np.array([[1,2,3],[4,5,6]])\n",
    "ThreeD=np.array([[[1,2],[3,4]],[[5,6],[7,8]]])\n",
    "print(oneD[2]) # 1d\n",
    "print(twoD[1,0]) #2d\n",
    "print(ThreeD[1,1,1]) #3d accessing value 8\n",
    "print(ThreeD[0,1,1]) #3d accessing value 4"
   ]
  },
  {
   "cell_type": "code",
   "execution_count": 14,
   "id": "cae0e9be",
   "metadata": {},
   "outputs": [
    {
     "name": "stdout",
     "output_type": "stream",
     "text": [
      "[1 2 3 4]\n",
      "[5 6 7]\n",
      "[3 4 5]\n",
      "[1 3 5 7]\n",
      "[7 6 5 4 3 2 1]\n"
     ]
    }
   ],
   "source": [
    "#Array Slicing: Accessing Subarrays\n",
    "#start =0 , stop : len of array\n",
    "a1d=np.array([1,2,3,4,5,6,7])\n",
    "#neglect the given index and print all prev value\n",
    "print(a1d[:4])\n",
    "print(a1d[4:]) #inclue the index and print until the len\n",
    "print(a1d[2:5]) # include both index \n",
    "print(a1d[::2]) #Skip all 2nd value \n",
    "print(a1d[::-1]) #reverse the array"
   ]
  },
  {
   "cell_type": "code",
   "execution_count": 16,
   "id": "d5601dee",
   "metadata": {},
   "outputs": [
    {
     "name": "stdout",
     "output_type": "stream",
     "text": [
      "(6,)\n",
      "[[1 2]\n",
      " [3 4]\n",
      " [5 6]]\n"
     ]
    }
   ],
   "source": [
    "#Reshaping of Arrays\n",
    "r=np.array([1,2,3,4,5,6])\n",
    "print(r.shape)\n",
    "print(r.reshape(3,2))"
   ]
  },
  {
   "cell_type": "code",
   "execution_count": 19,
   "id": "004e28bc",
   "metadata": {},
   "outputs": [
    {
     "name": "stdout",
     "output_type": "stream",
     "text": [
      "[ 1  2  3  4  5  6  7  8  9 10 11 12]\n"
     ]
    }
   ],
   "source": [
    "#Array Concatenation\n",
    "a1=np.array([1,2,3,4,5,6])\n",
    "a2=np.array([7,8,9,10,11,12])\n",
    "print(np.concatenate([a1,a2]))"
   ]
  },
  {
   "cell_type": "code",
   "execution_count": 21,
   "id": "57ed5e15",
   "metadata": {},
   "outputs": [
    {
     "name": "stdout",
     "output_type": "stream",
     "text": [
      "[1 2 3 4 5 6]\n",
      "[ 7  8  9 10 11 12]\n"
     ]
    }
   ],
   "source": [
    "#Splitting\n",
    "s=np.array([1,2,3,4,5,6,7,8,9,10,11,12])\n",
    "ss=np.split(s,2)\n",
    "print(ss[0])\n",
    "print(ss[1])"
   ]
  },
  {
   "cell_type": "markdown",
   "id": "46f32f46",
   "metadata": {},
   "source": [
    "NumPy Universal Functions\n",
    "\n",
    "Introducing UFuncs:\n",
    "1.It will be using in math prblm\n",
    "2.Characteristics:\n",
    "    a.it will work with ndarray\n",
    "    b.broadcasting\n",
    "    c.arith, trig,stat, bit twiddling  \n",
    "\t"
   ]
  },
  {
   "cell_type": "code",
   "execution_count": 22,
   "id": "89315de1",
   "metadata": {},
   "outputs": [
    {
     "name": "stdout",
     "output_type": "stream",
     "text": [
      "[ 6  8 10 12]\n",
      "[-4 -4 -4 -4]\n",
      "[ 5 12 21 32]\n",
      "[0.2        0.33333333 0.42857143 0.5       ]\n",
      "[0 0 0 0]\n",
      "[    1    64  2187 65536]\n",
      "[1 2 3 4]\n"
     ]
    }
   ],
   "source": [
    "#Exploring NumPy’s Ufuncs\n",
    "    #Arithmetics :\n",
    "    #np.add(a,b)\n",
    "    #np.subtract(a,b)\n",
    "    #np.multiply(a,b)\n",
    "    #np.division(a,b)\n",
    "    #np.floor_divide(a,b)\n",
    "    #np.power(a,b)\n",
    "    #np.mod(a,b)\n",
    "    \n",
    "a=np.array([1,2,3,4])\n",
    "b=np.array([5,6,7,8])\n",
    "print(np.add(a,b))\n",
    "print(np.subtract(a,b))\n",
    "print(np.multiply(a,b))\n",
    "print(np.divide(a,b))\n",
    "print(np.floor_divide(a,b))\n",
    "print(np.power(a,b))\n",
    "print(np.mod(a,b))"
   ]
  },
  {
   "cell_type": "markdown",
   "id": "1ae65af0",
   "metadata": {},
   "source": [
    "Trignometric fn:\n",
    "sin\n",
    "cos\n",
    "tan\n",
    "arcsin ->inverse\n",
    "arccos\n",
    "arctan\n",
    "hypot\n",
    "sinh\n",
    "cosh\n",
    "tanh\n",
    "arcsinh ->inverse\n",
    "arccosh\n",
    "arctanh\n",
    "Conversion of rad to deg & deg to rad:\n",
    "deg2rad\n",
    "rad2deg\n"
   ]
  },
  {
   "cell_type": "code",
   "execution_count": 23,
   "id": "d3ada0bd",
   "metadata": {},
   "outputs": [
    {
     "name": "stdout",
     "output_type": "stream",
     "text": [
      "[  0  30  45  60  90 180]\n",
      "[0.         0.52359878 0.78539816 1.04719755 1.57079633 3.14159265]\n",
      "[0.00000000e+00 5.00000000e-01 7.07106781e-01 8.66025404e-01\n",
      " 1.00000000e+00 1.22464680e-16]\n",
      "[ 1.00000000e+00  8.66025404e-01  7.07106781e-01  5.00000000e-01\n",
      "  6.12323400e-17 -1.00000000e+00]\n",
      "[ 0.00000000e+00  5.77350269e-01  1.00000000e+00  1.73205081e+00\n",
      "  1.63312394e+16 -1.22464680e-16]\n",
      "[0.00000000e+00 5.23598776e-01 7.85398163e-01 1.04719755e+00\n",
      " 1.57079633e+00 1.22464680e-16]\n",
      "[0.         0.52359878 0.78539816 1.04719755 1.57079633 3.14159265]\n",
      "[ 0.00000000e+00  5.23598776e-01  7.85398163e-01  1.04719755e+00\n",
      "  1.57079633e+00 -1.22464680e-16]\n",
      "5.0\n",
      "[ 0.          0.54785347  0.86867096  1.24936705  2.3012989  11.54873936]\n",
      "[0.         0.48047278 0.6557942  0.78071444 0.91715234 0.99627208]\n",
      "[ 1.          1.14023832  1.32460909  1.60028686  2.50917848 11.59195328]\n",
      "[0.         0.52359878 0.78539816 1.04719755 1.57079633 3.14159265]\n",
      "[0.         0.52359878 0.78539816 1.04719755 1.57079633 3.14159265]\n",
      "[0.         0.52359878 0.78539816 1.04719755 1.57079633 3.14159265]\n"
     ]
    }
   ],
   "source": [
    "angles=np.array([0,30,45,60,90,180])\n",
    "print(angles)\n",
    "radians=np.deg2rad(angles)\n",
    "print(radians)\n",
    "sinval= np.sin(radians)\n",
    "print(sinval)\n",
    "print(np.cos(radians))\n",
    "print(np.tan(radians))\n",
    "print(np.arcsin(sinval))\n",
    "print(np.arccos(np.cos(radians)))\n",
    "print(np.arctan(np.tan(radians)))\n",
    "print(np.hypot(4,3)) \n",
    "print(np.sinh(radians))\n",
    "print(np.tanh(radians))\n",
    "print(np.cosh(radians))\n",
    "print(np.arcsinh(np.sinh(radians)))\n",
    "print(np.arccosh(np.cosh(radians)))\n",
    "print(np.arctanh(np.tanh(radians)))"
   ]
  },
  {
   "cell_type": "code",
   "execution_count": 1,
   "id": "3d986f62",
   "metadata": {},
   "outputs": [
    {
     "name": "stdout",
     "output_type": "stream",
     "text": [
      "6.166666666666667\n",
      "6.5\n",
      "2.266911751455907\n",
      "5.138888888888889\n",
      "6.166666666666667\n",
      "2 9\n"
     ]
    }
   ],
   "source": [
    "#Statistics Fns -> Mean , Median , std , var , average , min , max\n",
    "import numpy as np\n",
    "a=np.array([2,5,6,7,8,9])\n",
    "print(np.mean(a))\n",
    "print(np.median(a))\n",
    "print(np.std(a))\n",
    "print(np.var(a))\n",
    "print(np.average(a))\n",
    "print(np.amin(a),np.amax(a))"
   ]
  },
  {
   "cell_type": "code",
   "execution_count": 2,
   "id": "37f2687b",
   "metadata": {},
   "outputs": [
    {
     "name": "stdout",
     "output_type": "stream",
     "text": [
      "[0 0 2 0 4 4 6]\n",
      "[ 9 11 11 15 13 15 15]\n",
      "[ 9 11  9 15  9 11  9]\n",
      "[-2 -3 -4 -5 -6 -7 -8]\n",
      "[ -9 -10 -11 -12 -13 -14 -15]\n",
      "[ 2  4  6  8 10 12 14]\n",
      "[0 1 1 2 2 3 3]\n"
     ]
    }
   ],
   "source": [
    "#Bit twiddling -> bitwise_and , bitwise_or bitwise_xor , invert , left shift , right shift\n",
    "\n",
    "a=np.array([1,2,3,4,5,6,7])\n",
    "b=np.array([8,9,10,11,12,13,14])\n",
    "print(np.bitwise_and(a,b))\n",
    "print(np.bitwise_or(a,b))\n",
    "print(np.bitwise_xor(a,b))\n",
    "print(np.invert(a)) \n",
    "print(np.invert(b))\n",
    "print(np.left_shift(a,1))\n",
    "print(np.right_shift(a,1))"
   ]
  },
  {
   "cell_type": "code",
   "execution_count": 5,
   "id": "5d53a33c",
   "metadata": {},
   "outputs": [
    {
     "name": "stdout",
     "output_type": "stream",
     "text": [
      "[ 6  8 10 12 16  8 11 13 15 17]\n",
      "[17. 15. 13. 11.  8. 16. 12. 10.  8.  6.]\n",
      "[   2.    4.    8.   16.   32.   64.  128.  256.  512. 1024.]\n"
     ]
    }
   ],
   "source": [
    "#Advanced Ufunc Features ->. Single line operation / Inline operation\n",
    "a=np.array([1,2,3,4,5,6,7,8,9,10])\n",
    "b=np.array([5,6,7,8,11,2,4,5,6,7])\n",
    "z=np.empty(10)\n",
    "y=np.empty(10)\n",
    "print(np.add(a,b))\n",
    "np.add(a,b, out=z[::-1]) # inverse the output of addition a,b\n",
    "print(z)\n",
    "np.power(2,a,out=y[::1]) #slicing skip\n",
    "print(y)"
   ]
  },
  {
   "cell_type": "markdown",
   "id": "ac5895df",
   "metadata": {},
   "source": [
    "Aggregations \n",
    "    Min\n",
    "\tMax\n",
    "\tSumming the values in an Array"
   ]
  },
  {
   "cell_type": "code",
   "execution_count": 8,
   "id": "2778e83d",
   "metadata": {},
   "outputs": [
    {
     "name": "stdout",
     "output_type": "stream",
     "text": [
      "0.9900820015627398\n",
      "0.002483757745879611\n",
      "42.69238673931592\n"
     ]
    }
   ],
   "source": [
    "#a=np.array([1,2,3,4,5])\n",
    "a=np.random.rand(100)\n",
    "print(max(a))\n",
    "print(min(a))\n",
    "print(a.sum())\n"
   ]
  },
  {
   "cell_type": "code",
   "execution_count": null,
   "id": "1f0d33a9",
   "metadata": {},
   "outputs": [],
   "source": []
  }
 ],
 "metadata": {
  "kernelspec": {
   "display_name": "Python 3 (ipykernel)",
   "language": "python",
   "name": "python3"
  },
  "language_info": {
   "codemirror_mode": {
    "name": "ipython",
    "version": 3
   },
   "file_extension": ".py",
   "mimetype": "text/x-python",
   "name": "python",
   "nbconvert_exporter": "python",
   "pygments_lexer": "ipython3",
   "version": "3.11.0"
  }
 },
 "nbformat": 4,
 "nbformat_minor": 5
}
