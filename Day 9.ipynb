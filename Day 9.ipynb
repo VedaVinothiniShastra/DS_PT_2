{
 "cells": [
  {
   "cell_type": "markdown",
   "id": "5c473a6f",
   "metadata": {},
   "source": [
    "Pivot Tables\t\n",
    "    Motivating Pivot Tables\n",
    "\tPivot Tables by Hand\n",
    "\tPivot Table Syntax"
   ]
  },
  {
   "cell_type": "code",
   "execution_count": 2,
   "id": "6c10896b",
   "metadata": {},
   "outputs": [
    {
     "name": "stdout",
     "output_type": "stream",
     "text": [
      "     survived  pclass     sex   age  sibsp  parch     fare embarked   class  \\\n",
      "0           0       3    male  22.0      1      0   7.2500        S   Third   \n",
      "1           1       1  female  38.0      1      0  71.2833        C   First   \n",
      "2           1       3  female  26.0      0      0   7.9250        S   Third   \n",
      "3           1       1  female  35.0      1      0  53.1000        S   First   \n",
      "4           0       3    male  35.0      0      0   8.0500        S   Third   \n",
      "..        ...     ...     ...   ...    ...    ...      ...      ...     ...   \n",
      "886         0       2    male  27.0      0      0  13.0000        S  Second   \n",
      "887         1       1  female  19.0      0      0  30.0000        S   First   \n",
      "888         0       3  female   NaN      1      2  23.4500        S   Third   \n",
      "889         1       1    male  26.0      0      0  30.0000        C   First   \n",
      "890         0       3    male  32.0      0      0   7.7500        Q   Third   \n",
      "\n",
      "       who  adult_male deck  embark_town alive  alone  \n",
      "0      man        True  NaN  Southampton    no  False  \n",
      "1    woman       False    C    Cherbourg   yes  False  \n",
      "2    woman       False  NaN  Southampton   yes   True  \n",
      "3    woman       False    C  Southampton   yes  False  \n",
      "4      man        True  NaN  Southampton    no   True  \n",
      "..     ...         ...  ...          ...   ...    ...  \n",
      "886    man        True  NaN  Southampton    no   True  \n",
      "887  woman       False    B  Southampton   yes   True  \n",
      "888  woman       False  NaN  Southampton    no  False  \n",
      "889    man        True    C    Cherbourg   yes   True  \n",
      "890    man        True  NaN   Queenstown    no   True  \n",
      "\n",
      "[891 rows x 15 columns]\n"
     ]
    }
   ],
   "source": [
    "#pivot tables\n",
    "import numpy as np\n",
    "import pandas as pd\n",
    "import seaborn as sb\n",
    "t=sb.load_dataset('titanic')\n",
    "print(t)"
   ]
  },
  {
   "cell_type": "code",
   "execution_count": 7,
   "id": "1955396d",
   "metadata": {},
   "outputs": [
    {
     "name": "stdout",
     "output_type": "stream",
     "text": [
      "        survived\n",
      "sex             \n",
      "female  0.742038\n",
      "male    0.188908\n",
      "sex     class \n",
      "female  First     0.968085\n",
      "        Second    0.921053\n",
      "        Third     0.500000\n",
      "male    First     0.368852\n",
      "        Second    0.157407\n",
      "        Third     0.135447\n",
      "Name: survived, dtype: float64\n",
      "class      First    Second     Third\n",
      "sex                                 \n",
      "female  0.968085  0.921053  0.500000\n",
      "male    0.368852  0.157407  0.135447\n",
      "              fare                       survived             \n",
      "class        First     Second      Third    First Second Third\n",
      "sex                                                           \n",
      "female  106.125798  21.970121  16.118810       91     70    72\n",
      "male     67.226127  19.741782  12.661633       45     17    47\n"
     ]
    }
   ],
   "source": [
    "print(t.groupby('sex')[['survived']].mean())\n",
    "print(t.groupby(['sex','class'])['survived'].mean()) \n",
    "\n",
    "\n",
    "# pivot table\n",
    "\n",
    "print(t.pivot_table('survived',index='sex',columns='class'))\n",
    "print(t.pivot_table(index='sex',columns='class',aggfunc={'survived':sum,'fare':'mean'}))\n"
   ]
  },
  {
   "cell_type": "markdown",
   "id": "a01d3a02",
   "metadata": {},
   "source": [
    "Vectorized String Operations\t\n",
    "    Introducing Pandas String Operations\n",
    "\tTables of Pandas String Methods"
   ]
  },
  {
   "cell_type": "code",
   "execution_count": null,
   "id": "baa0e9fa",
   "metadata": {},
   "outputs": [],
   "source": [
    "#Introducing Pandas String Operations\n",
    "import pandas as pd\n",
    "a=['datascience','java','python','django']"
   ]
  },
  {
   "cell_type": "markdown",
   "id": "a8fff587",
   "metadata": {},
   "source": [
    "#Tables of Pandas String Methods\n",
    "\n",
    "len() lower() translate() islower() ljust() upper() startswith() isupper() rjust() find() endswith() isnumeric() center() rfind() isalnum() isdecimal() zfill() index() isalpha() split() strip() rindex() isdigit() rsplit() rstrip() capitalize() isspace() partition() lstrip() swapcase() istitle() rpartition()"
   ]
  },
  {
   "cell_type": "code",
   "execution_count": 54,
   "id": "cc6fbc5d",
   "metadata": {},
   "outputs": [
    {
     "name": "stdout",
     "output_type": "stream",
     "text": [
      "Len for string 12\n",
      "Length for pandas series 0    32\n",
      "1     4\n",
      "2     6\n",
      "3     6\n",
      "dtype: int64\n",
      "Lower for pandas series 0    data science and regular science\n",
      "1                                java\n",
      "2                              python\n",
      "3                              django\n",
      "dtype: object\n",
      "Upper for pandas series 0    DATA SCIENCE AND REGULAR SCIENCE\n",
      "1                                JAVA\n",
      "2                              PYTHON\n",
      "3                              DJANGO\n",
      "dtype: object\n",
      "Data $cience\n",
      "Is Lower for pandas series 0    False\n",
      "1    False\n",
      "2     True\n",
      "3    False\n",
      "dtype: bool\n",
      "Ljust 0    Data Science and Regular Science\n",
      "1                Java________________\n",
      "2                python______________\n",
      "3                Django______________\n",
      "dtype: object\n",
      "rjust 0    Data Science and Regular Science\n",
      "1                ________________Java\n",
      "2                ______________python\n",
      "3                ______________Django\n",
      "dtype: object\n",
      "center 0    Data Science and Regular Science\n",
      "1                        Java        \n",
      "2                       python       \n",
      "3                       Django       \n",
      "dtype: object\n",
      "rfind 0    22\n",
      "1     3\n",
      "2    -1\n",
      "3     2\n",
      "dtype: int64\n",
      "rindex 3\n",
      "find 0    9\n",
      "1   -1\n",
      "2    5\n",
      "3    3\n",
      "dtype: int64\n",
      "startswith 0    False\n",
      "1    False\n",
      "2    False\n",
      "3    False\n",
      "dtype: bool\n",
      "endswith 0    False\n",
      "1    False\n",
      "2    False\n",
      "3     True\n",
      "dtype: bool\n",
      "isnumeric 0    False\n",
      "1    False\n",
      "2    False\n",
      "3    False\n",
      "dtype: bool\n",
      "isalnum 0    False\n",
      "1     True\n",
      "2     True\n",
      "3     True\n",
      "dtype: bool\n",
      "is decimal 0    False\n",
      "1    False\n",
      "2    False\n",
      "3    False\n",
      "dtype: bool\n",
      "is alpha 0    False\n",
      "1     True\n",
      "2     True\n",
      "3     True\n",
      "dtype: bool\n",
      "zfill 0    Data Science and Regular Science\n",
      "1                          000000Java\n",
      "2                          0000python\n",
      "3                          0000Django\n",
      "dtype: object\n",
      "isspace 0    False\n",
      "1    False\n",
      "2    False\n",
      "3    False\n",
      "dtype: bool\n",
      "istitle 0    False\n",
      "1     True\n",
      "2    False\n",
      "3     True\n",
      "dtype: bool\n",
      "isdigit 0    False\n",
      "1    False\n",
      "2    False\n",
      "3    False\n",
      "dtype: bool\n",
      "swap case 0    dATA sCIENCE AND rEGULAR sCIENCE\n",
      "1                                jAVA\n",
      "2                              PYTHON\n",
      "3                              dJANGO\n",
      "dtype: object\n",
      "Capitalize 0    Data science and regular science\n",
      "1                                Java\n",
      "2                              Python\n",
      "3                              Django\n",
      "dtype: object\n",
      "strip 0    Data Science and Regular Science\n",
      "1                                Java\n",
      "2                              python\n",
      "3                              Django\n",
      "dtype: object\n",
      "rstrip 0    Data Science and Regular Science\n",
      "1                                Java\n",
      "2                              python\n",
      "3                              Django\n",
      "dtype: object\n",
      "lstrip 0    Data Science and Regular Science\n",
      "1                                Java\n",
      "2                              python\n",
      "3                              Django\n",
      "dtype: object\n",
      "                          0  1        2\n",
      "0  Data Science and Regular     Science\n",
      "1                                  Java\n",
      "2                                python\n",
      "3                                Django\n"
     ]
    }
   ],
   "source": [
    "Sops =\"Data Science\"\n",
    "a=['Data Science and Regular Science','Java','python','Django']\n",
    "ser=pd.Series(a)\n",
    "#print(ser)\n",
    "print(\"Len for string\",len(Sops))\n",
    "print(\"Length for pandas series\",ser.str.len())\n",
    "print(\"Lower for pandas series\",ser.str.lower())\n",
    "print(\"Upper for pandas series\",ser.str.upper())\n",
    "t=str.maketrans(\"S\",\"$\")\n",
    "print(Sops.translate(t))\n",
    "print(\"Is Lower for pandas series\",ser.str.islower())\n",
    "\n",
    "print(\"Ljust\", ser.str.ljust(20,'_'))\n",
    "print(\"rjust\", ser.str.rjust(20,'_'))\n",
    "print(\"center\", ser.str.center(20))\n",
    "print(\"rfind\", ser.str.rfind(\"a\"))  # last occurance of a charatcer in a string is printed\n",
    "print(\"rindex\", Sops.rindex(\"a\",0, 10)) \n",
    "print(\"find\", ser.str.find(\"n\"))\n",
    "print('startswith',ser.str.startswith('P'))\n",
    "print('endswith',ser.str.endswith('o'))\n",
    "print('isnumeric',ser.str.isnumeric())\n",
    "print('isalnum',ser.str.isalnum())\n",
    "print('is decimal',ser.str.isdecimal())\n",
    "print('is alpha',ser.str.isalpha())\n",
    "print('zfill',ser.str.zfill(10))\n",
    "print('isspace',ser.str.isspace())\n",
    "print('istitle',ser.str.istitle())\n",
    "print('isdigit',ser.str.isdigit())\n",
    "print('swap case',ser.str.swapcase())\n",
    "print('Capitalize',ser.str.capitalize())\n",
    "print('strip',ser.str.strip())\n",
    "print('rstrip',ser.str.rstrip())\n",
    "print('lstrip',ser.str.lstrip())\n",
    "print(ser.str.rpartition())"
   ]
  },
  {
   "cell_type": "markdown",
   "id": "8b9e7614",
   "metadata": {},
   "source": [
    "Working with Time Series\t\n",
    "    Working with Time Series\n",
    "\tDates and Times in Python\n",
    "\tPandas Time Series: Indexing by Time\n",
    "\tPandas Time Series Data Structures\n",
    "\tFrequencies and Offsets\n",
    "\tResampling, Shifting, and Windowing"
   ]
  },
  {
   "cell_type": "markdown",
   "id": "34d1a9ad",
   "metadata": {},
   "source": [
    "1.Time stamps (eg: january 31st,2023 at 8.25PM) \n",
    "2.Time interval (eg: 24 hours in a day)\n",
    "3.Time deltas (eg: 22.56 seconds)\n",
    "\n",
    "Code Meaning Time span (relative) \n",
    "Time span (absolute) \n",
    "Y Year ± 9.2e18 years [9.2e18 BC, 9.2e18 AD] \n",
    "M Month ± 7.6e17 years [7.6e17 BC, 7.6e17 AD]\n",
    "W Week ± 1.7e17 years [1.7e17 BC, 1.7e17 AD]\n",
    "D Day ± 2.5e16 years [2.5e16 BC, 2.5e16 AD] \n",
    "h Hour ± 1.0e15 years [1.0e15 BC, 1.0e15 AD] \n",
    "m Minute ± 1.7e13 years [1.7e13 BC, 1.7e13 AD] \n",
    "s Second ± 2.9e12 years [ 2.9e9 BC, 2.9e9 AD] \n",
    "ms Millisecond ± 2.9e9 years [ 2.9e6 BC, 2.9e6 AD] \n",
    "us Microsecond ± 2.9e6 years [290301 BC, 294241 AD] \n",
    "ns Nanosecond ± 292 years [ 1678 AD, 2262 AD] \n",
    "ps Picosecond ± 106 days [ 1969 AD, 1970 AD] \n",
    "fs Femtosecond ± 2.6 hours [ 1969 AD, 1970 AD]\n",
    "as Attosecond ± 9.2 seconds [ 1969 AD, 1970 AD]"
   ]
  },
  {
   "cell_type": "code",
   "execution_count": 68,
   "id": "2886f9b2",
   "metadata": {
    "scrolled": true
   },
   "outputs": [
    {
     "name": "stdout",
     "output_type": "stream",
     "text": [
      "2023-03-07 22:36:20.155230\n",
      "2023-03-07\n",
      "['MAXYEAR', 'MINYEAR', 'UTC', '__all__', '__builtins__', '__cached__', '__doc__', '__file__', '__loader__', '__name__', '__package__', '__spec__', 'date', 'datetime', 'datetime_CAPI', 'sys', 'time', 'timedelta', 'timezone', 'tzinfo']\n",
      "<class 'datetime.timedelta'>\n",
      "2023-03-07\n",
      "Current year: 2023\n",
      "Current month: 3\n",
      "Current day: 7\n",
      "2022-12-28 23:55:59.342380\n",
      "t3 = 14 days, 13:55:39\n",
      "Local: 03/07/2023, 22:36:20\n",
      "NY: 03/07/2023, 12:06:28\n",
      "London: 03/07/2023, 17:06:28\n"
     ]
    }
   ],
   "source": [
    "#Dates and Times in Python\n",
    "import datetime\n",
    "now = datetime.datetime.now()\n",
    "print(now)\n",
    "current_date = datetime.date.today()\n",
    "print(current_date)\n",
    "print(dir(datetime)) # giving all date time methods\n",
    "print(datetime.timedelta)\n",
    "\n",
    "from datetime import date\n",
    "todays_date = date.today()\n",
    "print(todays_date)\n",
    "\n",
    "print(\"Current year:\", todays_date.year)\n",
    "print(\"Current month:\", todays_date.month)\n",
    "print(\"Current day:\", todays_date.day)\n",
    "from datetime import datetime\n",
    "# datetime(year, month, day, hour, minute, second, microsecond)\n",
    "b = datetime(2022, 12, 28, 23, 55, 59, 342380)\n",
    "print(b)\n",
    "\n",
    "from datetime import timedelta\n",
    "\n",
    "t1 = timedelta(weeks = 2, days = 5, hours = 1, seconds = 33)\n",
    "t2 = timedelta(days = 4, hours = 11, minutes = 4, seconds = 54)\n",
    "t3 = t1 - t2\n",
    "print(\"t3 =\", t3)\n",
    "\n",
    "#timezone\n",
    "\n",
    "from datetime import datetime\n",
    "import pytz\n",
    "\n",
    "local = datetime.now()\n",
    "print(\"Local:\", local.strftime(\"%m/%d/%Y, %H:%M:%S\"))\n",
    "tz_NY = pytz.timezone('America/New_York') \n",
    "datetime_NY = datetime.now(tz_NY)\n",
    "print(\"NY:\", datetime_NY.strftime(\"%m/%d/%Y, %H:%M:%S\"))\n",
    "tz_London = pytz.timezone('Europe/London')\n",
    "datetime_London = datetime.now(tz_London)\n",
    "print(\"London:\", datetime_London.strftime(\"%m/%d/%Y, %H:%M:%S\"))"
   ]
  },
  {
   "cell_type": "code",
   "execution_count": 3,
   "id": "9c18ecab",
   "metadata": {},
   "outputs": [
    {
     "name": "stdout",
     "output_type": "stream",
     "text": [
      "2015-07-04\n",
      "2023-01-31 00:00:00\n",
      "2014-07-04    0\n",
      "2014-08-04    1\n",
      "2015-07-04    2\n",
      "2015-08-04    3\n",
      "dtype: int64\n"
     ]
    }
   ],
   "source": [
    "#Pandas Time Series: Indexing by Time\n",
    "import numpy as np\n",
    "date=np.array('2015-07-04', dtype=np.datetime64)\n",
    "print(date)\n",
    "\n",
    "import pandas as pd\n",
    "d=pd.to_datetime('31st of January, 2023')\n",
    "print(d)\n",
    "\n",
    "#DatetimeIndex\n",
    "ind=pd.DatetimeIndex(['2014-07-04','2014-08-04','2015-07-04','2015-08-04'])\n",
    "s= pd.Series([0,1,2,3],index=ind)\n",
    "print(s)"
   ]
  },
  {
   "cell_type": "markdown",
   "id": "846b2ca1",
   "metadata": {},
   "source": [
    "Pandas Time Series Data Structures\n",
    "Frequencies and Offsets\n",
    "Resampling, Shifting, and Windowing\n",
    "\n",
    "1.Time stamps (eg: january 31st,2023 at 8.25PM)=>numpy.datetime64, DatetimeIndex\n",
    "2.Time interval (eg: 24 hours in a day)=>numpy.datetime64,PeriodIndex\n",
    "3.Time deltas (eg: 22.56 seconds)=>numpy.timedelta64, TimedeltaIndex"
   ]
  },
  {
   "cell_type": "code",
   "execution_count": 7,
   "id": "11ab7b35",
   "metadata": {},
   "outputs": [
    {
     "name": "stdout",
     "output_type": "stream",
     "text": [
      "2023-01-31 00:00:00\n",
      "2014-07-04    0\n",
      "2014-08-04    1\n",
      "2015-07-04    2\n",
      "2015-08-04    3\n",
      "dtype: int64\n",
      "2023-01-31\n",
      "TimedeltaIndex(['0 days 00:00:00', '0 days 01:00:00', '0 days 02:00:00',\n",
      "                '0 days 03:00:00', '0 days 04:00:00', '0 days 05:00:00',\n",
      "                '0 days 06:00:00', '0 days 07:00:00', '0 days 08:00:00',\n",
      "                '0 days 09:00:00'],\n",
      "               dtype='timedelta64[ns]', freq='H')\n"
     ]
    }
   ],
   "source": [
    "import pandas as pd\n",
    "d=pd.to_datetime('31st of January, 2023')\n",
    "print(d)\n",
    "\n",
    "#stamps\n",
    "ind=pd.DatetimeIndex(['2014-07-04','2014-08-04','2015-07-04','2015-08-04'])\n",
    "i1=pd.Series([0,1,2,3],index=ind)\n",
    "print(i1)\n",
    "\n",
    "#interval\n",
    "print(d.to_period('D'))\n",
    "\n",
    "#deltas\n",
    "#timedelta_range\n",
    "\n",
    "print(pd.timedelta_range(0, periods=10, freq='H'))\n"
   ]
  },
  {
   "cell_type": "markdown",
   "id": "fcc3db42",
   "metadata": {},
   "source": [
    "Frequencies and Offsets\n",
    "\n",
    "Code\tDescription\tCode\tDescription\n",
    "D\tCalendar day\tB\tBusiness day\n",
    "W\tWeekly\t\t\n",
    "M\tMonth end\tBM\tBusiness month end\n",
    "Q\tQuarter end\tBQ\tBusiness quarter end\n",
    "A\tYear end\tBA\tBusiness year end\n",
    "H\tHours\tBH\tBusiness hours\n",
    "T\tMinutes\t\t\n",
    "S\tSeconds\t\t\n",
    "L\tMilliseonds\t\t\n",
    "U\tMicroseconds\t\t\n",
    "N\tnanoseconds\t\n",
    "\n",
    "\n",
    "Code\tDescription\t\tCode\tDescription\n",
    "MS\tMonth start\t\tBMS\tBusiness month start\n",
    "QS\tQuarter start\t\tBQS\tBusiness quarter start\n",
    "AS\tYear start\t\tBAS\tBusiness year start\n",
    "\n",
    "\n",
    "Q-JAN, BQ-FEB, QS-MAR, BQS-APR"
   ]
  },
  {
   "cell_type": "code",
   "execution_count": 16,
   "id": "31733d8f",
   "metadata": {},
   "outputs": [
    {
     "name": "stdout",
     "output_type": "stream",
     "text": [
      "d Friday\n",
      "d1 Saturday\n",
      "a0 Sunday\n",
      "a Monday\n"
     ]
    }
   ],
   "source": [
    "d=pd.Timestamp('2023-03-10')\n",
    "print('d',d.day_name()) \n",
    "\n",
    "d1=d+pd.Timedelta(\"1 day\")\n",
    "print('d1',d1.day_name())\n",
    "\n",
    "\n",
    "pd.offsets.BDay() #--> Buisness day\n",
    "a0=d1+pd.Timedelta(\"1 day\")\n",
    "print('a0',a0.day_name())\n",
    "a=d1+pd.offsets.BDay()\n",
    "print('a',a.day_name())"
   ]
  },
  {
   "cell_type": "code",
   "execution_count": 18,
   "id": "42882b61",
   "metadata": {},
   "outputs": [
    {
     "name": "stdout",
     "output_type": "stream",
     "text": [
      "DatetimeIndex(['2023-03-06', '2023-03-07', '2023-03-08', '2023-03-09',\n",
      "               '2023-03-10'],\n",
      "              dtype='datetime64[ns]', freq='B')\n"
     ]
    }
   ],
   "source": [
    "from pandas.tseries.offsets import BDay\n",
    "print(pd.date_range('2023-03-06', periods=5,freq=BDay()))"
   ]
  },
  {
   "cell_type": "code",
   "execution_count": 36,
   "id": "54b95663",
   "metadata": {},
   "outputs": [
    {
     "name": "stdout",
     "output_type": "stream",
     "text": [
      "Collecting pandas-datareader==0.7.0\n",
      "  Downloading pandas_datareader-0.7.0-py2.py3-none-any.whl (111 kB)\n",
      "     ---------------------------------------- 0.0/111.7 kB ? eta -:--:--\n",
      "     -------------------------------- ------ 92.2/111.7 kB 2.6 MB/s eta 0:00:01\n",
      "     ---------------------------------- --- 102.4/111.7 kB 2.0 MB/s eta 0:00:01\n",
      "     ---------------------------------- --- 102.4/111.7 kB 2.0 MB/s eta 0:00:01\n",
      "     ---------------------------------- --- 102.4/111.7 kB 2.0 MB/s eta 0:00:01\n",
      "     ---------------------------------- --- 102.4/111.7 kB 2.0 MB/s eta 0:00:01\n",
      "     ---------------------------------- --- 102.4/111.7 kB 2.0 MB/s eta 0:00:01\n",
      "     ---------------------------------- --- 102.4/111.7 kB 2.0 MB/s eta 0:00:01\n",
      "     ---------------------------------- --- 102.4/111.7 kB 2.0 MB/s eta 0:00:01\n",
      "     ---------------------------------- --- 102.4/111.7 kB 2.0 MB/s eta 0:00:01\n",
      "     ------------------------------------ 111.7/111.7 kB 224.0 kB/s eta 0:00:00\n",
      "Requirement already satisfied: pandas>=0.19.2 in c:\\users\\bjawa\\appdata\\local\\programs\\python\\python311\\lib\\site-packages (from pandas-datareader==0.7.0) (1.5.3)\n",
      "Requirement already satisfied: requests>=2.3.0 in c:\\users\\bjawa\\appdata\\local\\programs\\python\\python311\\lib\\site-packages (from pandas-datareader==0.7.0) (2.28.1)\n",
      "Requirement already satisfied: wrapt in c:\\users\\bjawa\\appdata\\local\\programs\\python\\python311\\lib\\site-packages (from pandas-datareader==0.7.0) (1.15.0)\n",
      "Requirement already satisfied: lxml in c:\\users\\bjawa\\appdata\\local\\programs\\python\\python311\\lib\\site-packages (from pandas-datareader==0.7.0) (4.9.2)\n",
      "Requirement already satisfied: python-dateutil>=2.8.1 in c:\\users\\bjawa\\appdata\\local\\programs\\python\\python311\\lib\\site-packages (from pandas>=0.19.2->pandas-datareader==0.7.0) (2.8.2)\n",
      "Requirement already satisfied: pytz>=2020.1 in c:\\users\\bjawa\\appdata\\local\\programs\\python\\python311\\lib\\site-packages (from pandas>=0.19.2->pandas-datareader==0.7.0) (2022.7)\n",
      "Requirement already satisfied: numpy>=1.21.0 in c:\\users\\bjawa\\appdata\\local\\programs\\python\\python311\\lib\\site-packages (from pandas>=0.19.2->pandas-datareader==0.7.0) (1.23.5)\n",
      "Requirement already satisfied: charset-normalizer<3,>=2 in c:\\users\\bjawa\\appdata\\local\\programs\\python\\python311\\lib\\site-packages (from requests>=2.3.0->pandas-datareader==0.7.0) (2.1.1)\n",
      "Requirement already satisfied: idna<4,>=2.5 in c:\\users\\bjawa\\appdata\\local\\programs\\python\\python311\\lib\\site-packages (from requests>=2.3.0->pandas-datareader==0.7.0) (3.4)\n",
      "Requirement already satisfied: urllib3<1.27,>=1.21.1 in c:\\users\\bjawa\\appdata\\local\\programs\\python\\python311\\lib\\site-packages (from requests>=2.3.0->pandas-datareader==0.7.0) (1.26.13)\n",
      "Requirement already satisfied: certifi>=2017.4.17 in c:\\users\\bjawa\\appdata\\local\\programs\\python\\python311\\lib\\site-packages (from requests>=2.3.0->pandas-datareader==0.7.0) (2022.12.7)\n",
      "Requirement already satisfied: six>=1.5 in c:\\users\\bjawa\\appdata\\local\\programs\\python\\python311\\lib\\site-packages (from python-dateutil>=2.8.1->pandas>=0.19.2->pandas-datareader==0.7.0) (1.16.0)\n",
      "Installing collected packages: pandas-datareader\n",
      "  Attempting uninstall: pandas-datareader\n",
      "    Found existing installation: pandas-datareader 0.9.0\n",
      "    Uninstalling pandas-datareader-0.9.0:\n",
      "      Successfully uninstalled pandas-datareader-0.9.0\n",
      "Successfully installed pandas-datareader-0.7.0\n",
      "Note: you may need to restart the kernel to use updated packages.\n"
     ]
    }
   ],
   "source": [
    "pip install pandas-datareader==0.7.0"
   ]
  },
  {
   "cell_type": "code",
   "execution_count": 56,
   "id": "badc8d3c",
   "metadata": {},
   "outputs": [
    {
     "name": "stdout",
     "output_type": "stream",
     "text": [
      "             Open   High    Low  Close    Volume\n",
      "Date                                            \n",
      "2019-09-10  47100  47200  46550  47000   9231792\n",
      "2019-09-11  47300  47400  46800  47150  16141619\n",
      "2019-09-16  47000  47100  46400  47100  15550926\n",
      "2019-09-17  47000  47100  46800  46900   7006280\n",
      "2019-09-18  46900  47700  46800  47700  10413027\n"
     ]
    },
    {
     "data": {
      "text/plain": [
       "[<matplotlib.lines.Line2D at 0x2a769702410>]"
      ]
     },
     "execution_count": 56,
     "metadata": {},
     "output_type": "execute_result"
    },
    {
     "data": {
      "image/png": "[encoded data removed]",
      "text/plain": [
       "<Figure size 640x480 with 1 Axes>"
      ]
     },
     "metadata": {},
     "output_type": "display_data"
    }
   ],
   "source": [
    "import pandas_datareader.data as web\n",
    "import datetime\n",
    "import matplotlib.pyplot as plt\n",
    "import seaborn; seaborn.set()\n",
    "#KOSPI, KOSDAQ\n",
    "df = web.DataReader('005930', 'naver', start='2019-09-10', end='2019-10-09')\n",
    "print(df.head()) \n",
    "df=df['Close']\n",
    "plt.plot(df)"
   ]
  },
  {
   "cell_type": "code",
   "execution_count": null,
   "id": "3f29d829",
   "metadata": {},
   "outputs": [],
   "source": []
  },
  {
   "cell_type": "code",
   "execution_count": null,
   "id": "a90e5707",
   "metadata": {},
   "outputs": [],
   "source": []
  }
 ],
 "metadata": {
  "kernelspec": {
   "display_name": "Python 3 (ipykernel)",
   "language": "python",
   "name": "python3"
  },
  "language_info": {
   "codemirror_mode": {
    "name": "ipython",
    "version": 3
   },
   "file_extension": ".py",
   "mimetype": "text/x-python",
   "name": "python",
   "nbconvert_exporter": "python",
   "pygments_lexer": "ipython3",
   "version": "3.11.0"
  }
 },
 "nbformat": 4,
 "nbformat_minor": 5
}
