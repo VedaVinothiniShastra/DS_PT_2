{
 "cells": [
  {
   "cell_type": "markdown",
   "id": "16e9b2ea",
   "metadata": {},
   "source": [
    "Computation on Arrays: \n",
    "    Broadcasting\t-> Arithmetic operation \n",
    "    Introducing Broadcasting\n",
    "\tRules of Broadcasting:\n",
    "    1.If dimensions are not equal then do padding from left\n",
    "    2D array - 1d array\n",
    "    2. If dimensions are not equal , you need to match to other dimension array which is present\n",
    "    3.Raise a error when you have empty or size mismatch or null(default)\n",
    "    \n",
    "    \n",
    "\tComparisons\n",
    "\tMasks\n",
    "\tBoolean Logic\n",
    "Broadcasting\t\n",
    "    Working with Boolean Arrays\n",
    "\tBoolean Arrays as Masks"
   ]
  },
  {
   "cell_type": "code",
   "execution_count": 5,
   "id": "653fc233",
   "metadata": {},
   "outputs": [
    {
     "name": "stdout",
     "output_type": "stream",
     "text": [
      "(2, 4)\n",
      "(8,)\n",
      "(2, 4)\n",
      "[[ 2  4  6  8]\n",
      " [10 12 14 16]]\n"
     ]
    },
    {
     "ename": "ValueError",
     "evalue": "operands could not be broadcast together with shapes (2,4) (8,) ",
     "output_type": "error",
     "traceback": [
      "\u001b[1;31m---------------------------------------------------------------------------\u001b[0m",
      "\u001b[1;31mValueError\u001b[0m                                Traceback (most recent call last)",
      "Cell \u001b[1;32mIn[5], line 13\u001b[0m\n\u001b[0;32m     10\u001b[0m \u001b[38;5;28mprint\u001b[39m(np\u001b[38;5;241m.\u001b[39mshape(r))\n\u001b[0;32m     11\u001b[0m \u001b[38;5;28mprint\u001b[39m(a\u001b[38;5;241m+\u001b[39mr)\n\u001b[1;32m---> 13\u001b[0m \u001b[38;5;28mprint\u001b[39m(\u001b[43ma\u001b[49m\u001b[38;5;241;43m+\u001b[39;49m\u001b[43mb\u001b[49m)\n",
      "\u001b[1;31mValueError\u001b[0m: operands could not be broadcast together with shapes (2,4) (8,) "
     ]
    }
   ],
   "source": [
    "#Broadcasting\n",
    "import numpy as np\n",
    "a=np.array([[1,2,3,4],[5,6,7,8]]) #2d\n",
    "b=np.array([1,2,3,4,5,6,7,8]) #1d\n",
    "print(np.shape(a))\n",
    "print(np.shape(b))\n",
    "\n",
    "#Add both a ->2d, b ->1d\n",
    "r=b.reshape(2,4) #-->Rule 1,2\n",
    "print(np.shape(r))\n",
    "print(a+r)\n",
    "\n",
    "print(a+b) # Rule 3"
   ]
  },
  {
   "cell_type": "code",
   "execution_count": 6,
   "id": "e0722265",
   "metadata": {},
   "outputs": [
    {
     "name": "stdout",
     "output_type": "stream",
     "text": [
      "[[ True  True False False False False False False]\n",
      " [False False False False False False False False]]\n",
      "[[False False False False False False  True  True]\n",
      " [ True  True  True  True  True  True  True  True]]\n",
      "[[False False  True  True  True  True  True  True]\n",
      " [ True  True  True  True  True  True  True  True]]\n",
      "[[ True  True  True  True  True  True  True  True]\n",
      " [False False False False False False False False]]\n",
      "[[ True  True  True  True  True  True  True False]\n",
      " [ True  True  True  True  True  True  True  True]]\n",
      "[[False False False  True False False False False]\n",
      " [False False False False False False False False]]\n",
      "[[False  True False False False False False False]\n",
      " [False False False False False False False False]]\n"
     ]
    }
   ],
   "source": [
    "#Comparisons\n",
    "\n",
    "#==, !=, ,<=, >=\n",
    "\n",
    "a=np.array([[1,2,3,4,5,6,7,8],[9,10,11,12,13,14,15,16]]) #(2,8)\n",
    "print(a<3)\n",
    "print(a>6)\n",
    "print(a>=3)\n",
    "print(a<=8)\n",
    "print(a!=8)\n",
    "print(a==4)\n",
    "print((2*a)==(a**2))"
   ]
  },
  {
   "cell_type": "code",
   "execution_count": 12,
   "id": "69b33f73",
   "metadata": {},
   "outputs": [
    {
     "name": "stdout",
     "output_type": "stream",
     "text": [
      "4\n",
      "True\n",
      "True\n",
      "1\n"
     ]
    }
   ],
   "source": [
    "#Masks -> Manipulation of array\n",
    "\n",
    "aa=np.array([1,2,3,4,0])\n",
    "bbb=np.array([6,7,8,9,10])\n",
    "print(np.count_nonzero(aa))\n",
    "print(np.any(aa==0))\n",
    "print(np.all(aa<5))\n",
    "s=np.sum(aa>3)\n",
    "print(s)#less than 3\n"
   ]
  },
  {
   "cell_type": "code",
   "execution_count": 13,
   "id": "1e67e876",
   "metadata": {},
   "outputs": [
    {
     "name": "stdout",
     "output_type": "stream",
     "text": [
      "[0 3 3 3]\n"
     ]
    }
   ],
   "source": [
    "#Boolean Arrays  as Masks:\n",
    "    \n",
    "a=np.array([[5,0,3,3],[7,9,3,5]])\n",
    "print(a[a<5])\n",
    "\n",
    "    "
   ]
  },
  {
   "cell_type": "markdown",
   "id": "84bc4727",
   "metadata": {},
   "source": [
    "Fancy Indexing\t\n",
    "    Introduction\n",
    "        1.Additional indexing concept\n",
    "        2.It will allow to index with =>Another numpy array =>Python list =>sequence of integers\n",
    "    \n",
    "    \n",
    "\tCombined Indexing\n",
    "\tSelecting Random Points\n",
    "\tModifying Values with Fancy Indexing\n",
    "\tBinning Data"
   ]
  },
  {
   "cell_type": "code",
   "execution_count": 15,
   "id": "e7017d44",
   "metadata": {},
   "outputs": [
    {
     "name": "stdout",
     "output_type": "stream",
     "text": [
      "A [1 2 3 4 5 6 7 8 9]\n",
      "B [2 3 4 7]\n",
      "[3 4 5 8]\n"
     ]
    }
   ],
   "source": [
    "#Using another numpy array implementing fancy indexing\n",
    "\n",
    "import numpy as np\n",
    "a=np.arange(1,10) \n",
    "b=np.array([2,3,4,7])\n",
    "print('A',a)\n",
    "print('B',b)\n",
    "print(a[b])"
   ]
  },
  {
   "cell_type": "code",
   "execution_count": 16,
   "id": "4d7848ae",
   "metadata": {},
   "outputs": [
    {
     "name": "stdout",
     "output_type": "stream",
     "text": [
      "[4 5 6]\n"
     ]
    }
   ],
   "source": [
    "#Using python list implementing the fancy indexing\n",
    "\n",
    "a=np.array([3,4,5,6,7,8,9]) #numpy array\n",
    "b=[1,2,3] #list\n",
    "\n",
    "print(a[b])"
   ]
  },
  {
   "cell_type": "code",
   "execution_count": 17,
   "id": "69cf7a0e",
   "metadata": {},
   "outputs": [
    {
     "name": "stdout",
     "output_type": "stream",
     "text": [
      "[4 5]\n"
     ]
    }
   ],
   "source": [
    "#Using tuple sequence to implement the fancy indeixng \n",
    "\n",
    "a=np.array([3,4,5,6,7,8,9])\n",
    "tup=(1,2)\n",
    "#(tup -> list)\n",
    "ltup=list(tup)\n",
    "print(a[ltup])"
   ]
  },
  {
   "cell_type": "code",
   "execution_count": 19,
   "id": "86ed756a",
   "metadata": {},
   "outputs": [
    {
     "name": "stdout",
     "output_type": "stream",
     "text": [
      "[4 5 6]\n",
      "[[6 7]]\n"
     ]
    }
   ],
   "source": [
    "#Combined Indexing\n",
    "#1.Intergers\n",
    "#2.Slicing\n",
    "\n",
    "#using integer and combine to perform indexing\n",
    "a=np.array([[0,1,2,3],[4,5,6,7]])\n",
    "print(a[1,[0,1,2]]) \n",
    "\n",
    "#slicing & combine to perform indexing\n",
    "a=np.array([[0,1,2,3],[4,5,6,7]])\n",
    "print(a[1:,[2,3]])"
   ]
  },
  {
   "cell_type": "code",
   "execution_count": 24,
   "id": "98a1a7e4",
   "metadata": {},
   "outputs": [
    {
     "name": "stdout",
     "output_type": "stream",
     "text": [
      "[[ 0.66654416  1.29345291]\n",
      " [ 0.80474146  2.46504213]\n",
      " [ 0.02103157  1.19499555]\n",
      " [ 0.29301567  1.26295906]\n",
      " [ 0.51374789  1.03934128]\n",
      " [-0.67937246 -0.58422777]\n",
      " [-0.25002126 -1.53138537]\n",
      " [ 0.22610904  1.13313826]\n",
      " [-0.31750674  0.31968711]\n",
      " [ 0.84936873  2.76120601]\n",
      " [-0.36400521 -0.50379347]\n",
      " [-0.53929105 -0.4557248 ]\n",
      " [-0.28056053 -2.00961096]\n",
      " [-0.38281071 -1.9085007 ]\n",
      " [-0.30745289 -0.32519241]\n",
      " [-1.38043633 -0.96173604]\n",
      " [-0.56566426  0.32792376]\n",
      " [-1.26968657 -1.5973109 ]\n",
      " [ 1.64144866  3.18365385]\n",
      " [ 1.36204232  1.64860222]]\n"
     ]
    },
    {
     "data": {
      "image/png": "[encoded data removed]",
      "text/plain": [
       "<Figure size 640x480 with 1 Axes>"
      ]
     },
     "metadata": {},
     "output_type": "display_data"
    }
   ],
   "source": [
    "#Selecting Random Points\n",
    "\n",
    "#pip install scipy\n",
    "#pip install matplotlib\n",
    "#pip install seaborn\n",
    "#Python package for visulaization of data\n",
    "import matplotlib.pyplot as plt \n",
    "import scipy as spy\n",
    "import seaborn;\n",
    "seaborn.set()\n",
    "rand = np.random.RandomState(42) #0....1^2^42-1\n",
    "mean = [0, 0]\n",
    "cov = [[1, 2],\n",
    "       [2, 5]]\n",
    "X = rand.multivariate_normal(mean, cov, 100)\n",
    "#plt.scatter(X[:, 0], X[:, 1]);\n",
    "indices = np.random.choice(X.shape[0], 20, replace=False)\n",
    "selection=X[indices]\n",
    "print(selection)\n",
    "plt.scatter(selection[:, 0], selection[:, 1],\n",
    "             s=200);"
   ]
  },
  {
   "cell_type": "code",
   "execution_count": 27,
   "id": "4fe7fd07",
   "metadata": {},
   "outputs": [
    {
     "name": "stdout",
     "output_type": "stream",
     "text": [
      "[0 1 2 3 4 5 6 7 8 9]\n",
      "[2 1 8 4]\n",
      "[ 0 50 50  3 50  5  6  7 50  9]\n"
     ]
    }
   ],
   "source": [
    "#Modifying Values with Fancy Indexing\n",
    "\n",
    "a=np.arange(10)\n",
    "b=np.array([2,1,8,4])\n",
    "\n",
    "print(a)\n",
    "print(b)\n",
    "\n",
    "a[b]=50 # updating/ Modifying\n",
    "print(a)"
   ]
  },
  {
   "cell_type": "code",
   "execution_count": 30,
   "id": "f4583012",
   "metadata": {},
   "outputs": [
    {
     "name": "stdout",
     "output_type": "stream",
     "text": [
      "data [0.32990822 0.27461898 0.69188593 0.13595012 0.52137287 0.39933304\n",
      " 0.69186591 0.92193194 0.15518625 0.454814   0.66849536 0.96069022\n",
      " 0.90463525 0.81290766 0.18944023 0.79987546 0.48201072 0.50625173\n",
      " 0.74430047 0.34702498 0.38926954 0.82538285 0.74529465 0.37296527\n",
      " 0.64245772 0.20260674 0.71585785 0.77057954 0.57890947 0.47683856\n",
      " 0.14872319 0.00825832 0.31136217 0.85051053 0.86060042 0.96982458\n",
      " 0.98349305 0.87992412 0.01718963 0.24011119 0.43095611 0.19385007\n",
      " 0.72898309 0.80936041 0.39094382 0.39532462 0.89306119 0.46385004\n",
      " 0.42349311 0.67189482 0.53817779 0.69166224 0.44659002 0.74602744\n",
      " 0.83232837 0.98953184 0.57885617 0.38399198 0.62130416 0.11219911\n",
      " 0.84555741 0.03927236 0.01913045 0.36036854 0.5520674  0.70709298\n",
      " 0.42056483 0.74509746 0.42012729 0.54882718 0.96454661 0.97991271\n",
      " 0.61605361 0.77851833 0.7407115  0.45498794 0.34449773 0.82730949\n",
      " 0.83084371 0.7472615  0.06233927 0.98092681 0.08269573 0.15868163\n",
      " 0.13551754 0.43387147 0.6654313  0.41012469 0.6934194  0.6590839\n",
      " 0.71448991 0.99659656 0.49773732 0.00205399 0.53754006 0.01454112\n",
      " 0.0552112  0.45722115 0.90309216 0.84416581]\n",
      "Bins [0.         0.11111111 0.22222222 0.33333333 0.44444444 0.55555556\n",
      " 0.66666667 0.77777778 0.88888889 1.        ]\n",
      "Digitized [3 3 7 2 5 4 7 9 2 5 7 9 9 8 2 8 5 5 7 4 4 8 7 4 6 2 7 7 6 5 2 1 3 8 8 9 9\n",
      " 8 1 3 4 2 7 8 4 4 9 5 4 7 5 7 5 7 8 9 6 4 6 2 8 1 1 4 5 7 4 7 4 5 9 9 6 8\n",
      " 7 5 4 8 8 7 1 9 1 2 2 4 6 4 7 6 7 9 5 1 5 1 1 5 9 8]\n",
      "Mean [0.03341022977620819, 0.1591283191801688, 0.2890001386680583, 0.39485713439085274, 0.495591913883526, 0.6231566187495078, 0.7185247079944806, 0.8305603505127264, 0.954020242689821]\n"
     ]
    }
   ],
   "source": [
    "#Binning Data\n",
    "\n",
    "#Histogram\n",
    "\n",
    "import numpy as np\n",
    "data = np.random.random(100)\n",
    "bins = np.linspace(0, 1, 10)\n",
    "digitized = np.digitize(data, bins)\n",
    "bin_meansWOInbuilt = [data[digitized == i].mean() for i in range(1, len(bins))]\n",
    "print('data',data)\n",
    "print(\"Bins\",bins)\n",
    "print('Digitized',digitized)\n",
    "print('Mean',bin_meansWOInbuilt)"
   ]
  },
  {
   "cell_type": "code",
   "execution_count": 31,
   "id": "6d1ef848",
   "metadata": {},
   "outputs": [
    {
     "name": "stdout",
     "output_type": "stream",
     "text": [
      "[0.03341023 0.15912832 0.28900014 0.39485713 0.49559191 0.62315662\n",
      " 0.71852471 0.83056035 0.95402024]\n"
     ]
    }
   ],
   "source": [
    "bin_means = (np.histogram(data, bins, weights=data)[0] /\n",
    "             np.histogram(data, bins)[0])\n",
    "print(bin_means)\n"
   ]
  },
  {
   "cell_type": "code",
   "execution_count": null,
   "id": "0a1f678d",
   "metadata": {},
   "outputs": [],
   "source": []
  }
 ],
 "metadata": {
  "kernelspec": {
   "display_name": "Python 3 (ipykernel)",
   "language": "python",
   "name": "python3"
  },
  "language_info": {
   "codemirror_mode": {
    "name": "ipython",
    "version": 3
   },
   "file_extension": ".py",
   "mimetype": "text/x-python",
   "name": "python",
   "nbconvert_exporter": "python",
   "pygments_lexer": "ipython3",
   "version": "3.11.0"
  }
 },
 "nbformat": 4,
 "nbformat_minor": 5
}
