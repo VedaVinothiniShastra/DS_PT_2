{
 "cells": [
  {
   "cell_type": "markdown",
   "id": "dde4490f",
   "metadata": {},
   "source": [
    "Combining Datasets -> One or two numpy / Pd df -> Combining \t\n",
    "    Concat and Append\n",
    "    1.np.concatenate()  ->(num1, num2)\n",
    "    2.pd.concat() -> \n",
    "        Syntax: pd.concat(objs, axis=0, join='outer', join_axes=None, ignore_index=False, keys=None, levels=None, names=None, verify_integrity=False, copy=True)\n",
    "        \n",
    "        0 Num1\n",
    "        1 Num1\n",
    "        2 Num1\n",
    "        \n",
    "        0 Num2\n",
    "        1 Num2\n",
    "        2 Num2\n",
    "        \n",
    "        concat -> \n",
    "        0 Num1\n",
    "        1 Num1\n",
    "        2 Num1\n",
    "        3 Num2\n",
    "        4 Num2\n",
    "        5 Num2\n",
    "        \n",
    "        \n",
    "\tConcatenating NumPy arrays\n",
    "\tpd.concat\n",
    "Aggregation and Grouping\t\n",
    "    Planets Data\n",
    "\tSimple Aggregation in Pandas\n",
    "\tGroupBy: Split, Apply, Combine"
   ]
  },
  {
   "cell_type": "code",
   "execution_count": 3,
   "id": "28e9e850",
   "metadata": {},
   "outputs": [
    {
     "name": "stdout",
     "output_type": "stream",
     "text": [
      "a    1\n",
      "b    2\n",
      "c    3\n",
      "d    6\n",
      "e    7\n",
      "f    8\n",
      "dtype: int64\n",
      "   0\n",
      "0  1\n",
      "1  2\n",
      "2  3\n",
      "3  4\n",
      "4  5\n",
      "    0\n",
      "0   1\n",
      "1   2\n",
      "2   3\n",
      "3   4\n",
      "4   5\n",
      "0   6\n",
      "1   7\n",
      "2   8\n",
      "3   9\n",
      "4  10\n"
     ]
    }
   ],
   "source": [
    "import pandas as pd\n",
    "import numpy as np\n",
    "# Series, Dataframe, Index\n",
    "a=pd.Series([1,2,3],index=['a','b','c'])\n",
    "b=pd.Series([6,7,8],index=['d','e','f'])\n",
    "#pd.concat()\n",
    "print(pd.concat([a,b]))\n",
    "\n",
    "c=pd.DataFrame([1,2,3,4,5])\n",
    "d=pd.DataFrame([6,7,8,9,10])\n",
    "print(pd.concat([c,d])) # -> concat -> Will not create a address "
   ]
  },
  {
   "cell_type": "code",
   "execution_count": 5,
   "id": "3d813cea",
   "metadata": {},
   "outputs": [
    {
     "name": "stdout",
     "output_type": "stream",
     "text": [
      "a    1\n",
      "b    2\n",
      "c    3\n",
      "d    6\n",
      "e    7\n",
      "f    8\n",
      "dtype: int64\n",
      "    0\n",
      "0   1\n",
      "1   2\n",
      "2   3\n",
      "3   4\n",
      "4   5\n",
      "0   6\n",
      "1   7\n",
      "2   8\n",
      "3   9\n",
      "4  10\n"
     ]
    },
    {
     "name": "stderr",
     "output_type": "stream",
     "text": [
      "C:\\Users\\bjawa\\AppData\\Local\\Temp\\ipykernel_22212\\1434415299.py:2: FutureWarning: The series.append method is deprecated and will be removed from pandas in a future version. Use pandas.concat instead.\n",
      "  print(a.append(b)) #series\n",
      "C:\\Users\\bjawa\\AppData\\Local\\Temp\\ipykernel_22212\\1434415299.py:3: FutureWarning: The frame.append method is deprecated and will be removed from pandas in a future version. Use pandas.concat instead.\n",
      "  print(c.append(d)) # df\n"
     ]
    }
   ],
   "source": [
    "#Append -> will not create a address of its own\n",
    "print(a.append(b)) #series\n",
    "print(c.append(d)) # df"
   ]
  },
  {
   "cell_type": "code",
   "execution_count": 7,
   "id": "4f7e60f9",
   "metadata": {},
   "outputs": [
    {
     "name": "stdout",
     "output_type": "stream",
     "text": [
      "[0 1 2 3 4 5 6 7]\n",
      "[0 1 2 3 4 5 6 7]\n"
     ]
    }
   ],
   "source": [
    "#np.concatenate() \n",
    "n1=np.array([0,1,2,3])\n",
    "n2=np.array([4,5,6,7])\n",
    "print(np.concatenate([n1,n2]))\n",
    "print(np.concatenate((n1,n2)))"
   ]
  },
  {
   "cell_type": "markdown",
   "id": "4bc0269f",
   "metadata": {},
   "source": [
    "Merge and Join Datasets\t\n",
    "    Merge and Join\n",
    "\tRelational Algebra\n",
    "\tCategories of Joins\n",
    "\tSpecification of the Merge Key\n",
    "\tSpecifying Set Arithmetic for Joins\n",
    "\tThe suffixes Keyword"
   ]
  },
  {
   "cell_type": "code",
   "execution_count": 14,
   "id": "c2d330fe",
   "metadata": {},
   "outputs": [
    {
     "name": "stdout",
     "output_type": "stream",
     "text": [
      "  employee        group  hire_date\n",
      "0      Bob   Accounting       2008\n",
      "1     Lisa  Engineering       2004\n",
      "  employee        group  hire_date\n",
      "0      Bob   Accounting       2008\n",
      "1     Lisa  Engineering       2004\n",
      "  employee        group  hire_date\n",
      "0      Bob   Accounting     2008.0\n",
      "1     Jake  Engineering        NaN\n",
      "2     Lisa  Engineering     2004.0\n",
      "3      Sue           HR        NaN\n",
      "4     kris          NaN     2012.0\n",
      "5   jennie          NaN     2014.0\n",
      "  employee        group  hire_date\n",
      "0      Bob   Accounting     2008.0\n",
      "1     Jake  Engineering        NaN\n",
      "2     Lisa  Engineering     2004.0\n",
      "3      Sue           HR        NaN\n",
      "  employee        group  hire_date\n",
      "0     Lisa  Engineering       2004\n",
      "1      Bob   Accounting       2008\n",
      "2     kris          NaN       2012\n",
      "3   jennie          NaN       2014\n"
     ]
    }
   ],
   "source": [
    "#Merge and Join \n",
    "    #Merge & Join -> Large dataset\n",
    "    #Concat -> Small dataset\n",
    "    \n",
    "#Merge-> Two df -> Atleast one same column, index\n",
    "#Syntax:pd.merge(df1,df2)\n",
    "df1 = pd.DataFrame({'employee': ['Bob', 'Jake', 'Lisa', 'Sue'],\n",
    "                    'group': ['Accounting', 'Engineering', 'Engineering', 'HR']})\n",
    "df2 = pd.DataFrame({'employee': ['Lisa', 'Bob', 'kris', 'jennie'],\n",
    "                    'hire_date': [2004, 2008, 2012, 2014]})\n",
    "m=pd.merge(df1,df2)\n",
    "print(m)\n",
    "\n",
    "#Join -> inner , outer , left , right\n",
    "#Specifying Set Arithmetic for Joins\n",
    "print(pd.merge(df1,df2,how='inner'))\n",
    "print(pd.merge(df1,df2,how='outer'))\n",
    "print(pd.merge(df1,df2,how='left'))\n",
    "print(pd.merge(df1,df2,how='right'))"
   ]
  },
  {
   "cell_type": "code",
   "execution_count": 22,
   "id": "abba4273",
   "metadata": {
    "scrolled": true
   },
   "outputs": [
    {
     "name": "stdout",
     "output_type": "stream",
     "text": [
      "  employee        group  name  salary\n",
      "0      Bob   Accounting   Bob   80000\n",
      "1     Lisa  Engineering  Lisa  700000\n"
     ]
    }
   ],
   "source": [
    "#Specification of the Merge Key\n",
    "\n",
    "df1 = pd.DataFrame({'employee': ['Bob', 'Jake', 'Lisa', 'Sue'],\n",
    "                    'group': ['Accounting', 'Engineering', 'Engineering', 'HR']})\n",
    "df2 = pd.DataFrame({'employee': ['Lisa', 'Bob', 'mark', 'rachel'],\n",
    "                    'hire_date': [2004, 2008, 2012, 2014]})\n",
    "df3 = pd.DataFrame({'name': ['Lisa', 'Bob', 'mark', 'rachel'],\n",
    "                    'salary': [700000, 80000, 50000, 40000]})\n",
    "\n",
    "\n",
    "\n",
    "m=pd.merge(df1,df2)\n",
    "#print(m)\n",
    "\n",
    "# on , left_on , right_on\n",
    "\n",
    "print(pd.merge(df1,df2, on='employee'))\n",
    "#group , salary of all the employee !\n",
    "print(pd.merge(df1,df3, left_on='employee',right_on='name')) #two df -> shares same column data but diff column name"
   ]
  },
  {
   "cell_type": "code",
   "execution_count": 23,
   "id": "17d9462f",
   "metadata": {},
   "outputs": [
    {
     "name": "stdout",
     "output_type": "stream",
     "text": [
      "   name  rank_ccet1  rank_ccet2\n",
      "0   Bob           1           3\n",
      "1  Jake           2           1\n",
      "2  Lisa           3           4\n",
      "3   Sue           4           2\n"
     ]
    }
   ],
   "source": [
    "#The suffixes Keyword -> If two Df shares same column name , with diff data -> At merging if u wanna rename column name use suffix keyword\n",
    "\n",
    "dfc1 = pd.DataFrame({'name': ['Bob', 'Jake', 'Lisa', 'Sue'],\n",
    "                    'rank': [1, 2, 3, 4]}) #ccet 1\n",
    "dfc2 = pd.DataFrame({'name': ['Bob', 'Jake', 'Lisa', 'Sue'],\n",
    "                    'rank': [3, 1, 4, 2]}) # ccet 2\n",
    "print(pd.merge(dfc1, dfc2,on='name',suffixes=['_ccet1','_ccet2'] ))\n"
   ]
  },
  {
   "cell_type": "code",
   "execution_count": null,
   "id": "af7c5ab2",
   "metadata": {},
   "outputs": [],
   "source": []
  }
 ],
 "metadata": {
  "kernelspec": {
   "display_name": "Python 3 (ipykernel)",
   "language": "python",
   "name": "python3"
  },
  "language_info": {
   "codemirror_mode": {
    "name": "ipython",
    "version": 3
   },
   "file_extension": ".py",
   "mimetype": "text/x-python",
   "name": "python",
   "nbconvert_exporter": "python",
   "pygments_lexer": "ipython3",
   "version": "3.11.0"
  }
 },
 "nbformat": 4,
 "nbformat_minor": 5
}
